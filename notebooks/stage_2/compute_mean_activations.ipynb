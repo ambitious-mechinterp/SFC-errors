{
 "cells": [
  {
   "cell_type": "markdown",
   "metadata": {},
   "source": [
    "## Setup"
   ]
  },
  {
   "cell_type": "code",
   "execution_count": null,
   "metadata": {
    "colab": {
     "base_uri": "https://localhost:8080/"
    },
    "id": "qJWpQuM1crPG",
    "outputId": "dd63f30f-2715-40a1-a7ce-61a59e4483bb"
   },
   "outputs": [
    {
     "name": "stdout",
     "output_type": "stream",
     "text": [
      "Device: cuda:1\n"
     ]
    }
   ],
   "source": [
    "from IPython import get_ipython # type: ignore\n",
    "ipython = get_ipython(); assert ipython is not None\n",
    "ipython.run_line_magic(\"load_ext\", \"autoreload\")\n",
    "ipython.run_line_magic(\"autoreload\", \"2\")\n",
    "\n",
    "# Standard imports\n",
    "import os\n",
    "import torch\n",
    "import numpy as np\n",
    "from tqdm import tqdm\n",
    "import plotly.express as px\n",
    "import pandas as pd\n",
    "import einops\n",
    "from jaxtyping import Float, Int\n",
    "from torch import Tensor\n",
    "\n",
    "torch.set_grad_enabled(False)\n",
    "\n",
    "# Device setup\n",
    "GPU_TO_USE = 3\n",
    "\n",
    "if torch.backends.mps.is_available():\n",
    "    device = \"mps\"\n",
    "else:\n",
    "    device = f\"cuda:{GPU_TO_USE}\" if torch.cuda.is_available() else \"cpu\"\n",
    "\n",
    "print(f\"Device: {device}\")\n",
    "\n",
    "# utility to clear variables out of the memory & and clearing cuda cache\n",
    "import gc\n",
    "def clear_cache():\n",
    "    gc.collect()\n",
    "    torch.cuda.empty_cache()"
   ]
  },
  {
   "cell_type": "code",
   "execution_count": 2,
   "metadata": {
    "id": "jfJj5lw7i6mQ"
   },
   "outputs": [],
   "source": [
    "from pathlib import Path\n",
    "import sys\n",
    "import os\n",
    "\n",
    "def get_base_folder(project_root = \"tim-taras-sfc-errors\"):\n",
    "\t# Find the project root dynamically\n",
    "\tcurrent_dir = os.getcwd()\n",
    "\twhile True:\n",
    "\t\tif os.path.basename(current_dir) == project_root:  # Adjust to match your project root folder name\n",
    "\t\t\tbreak\n",
    "\t\tparent = os.path.dirname(current_dir)\n",
    "\t\tif parent == current_dir:  # Stop if we reach the system root (failsafe)\n",
    "\t\t\traise RuntimeError(f\"Project root {project_root} not found. Check your folder structure.\")\n",
    "\t\tcurrent_dir = parent\n",
    "\n",
    "\treturn current_dir\n",
    "\n",
    "def get_project_folder(base_folder=None, project_folder_name='sfc-errors'):\n",
    "\tif base_folder is None:\n",
    "\t\tbase_folder = get_base_folder()\n",
    "\t\n",
    "\treturn Path(base_folder) / project_folder_name\n",
    "\n",
    "def get_data_path(base_folder=None, data_folder_name='data'):\n",
    "\tif base_folder is None:\n",
    "\t\tbase_folder = get_base_folder()\n",
    "\n",
    "\treturn Path(base_folder) / data_folder_name"
   ]
  },
  {
   "cell_type": "code",
   "execution_count": 3,
   "metadata": {},
   "outputs": [
    {
     "name": "stdout",
     "output_type": "stream",
     "text": [
      "Base path: /mnt/ssd-1/mechinterp/taras/tim-taras-sfc-errors\n",
      "Project path: /mnt/ssd-1/mechinterp/taras/tim-taras-sfc-errors/sfc-errors\n"
     ]
    }
   ],
   "source": [
    "base_path = get_base_folder()\n",
    "print(f\"Base path: {base_path}\")\n",
    "\n",
    "project_path = get_project_folder(base_folder=base_path)\n",
    "print(f\"Project path: {project_path}\")\n",
    "\n",
    "sys.path.append(base_path)\n",
    "sys.path.append(str(project_path))"
   ]
  },
  {
   "cell_type": "code",
   "execution_count": 4,
   "metadata": {
    "colab": {
     "base_uri": "https://localhost:8080/"
    },
    "id": "pm2sgODvkSY_",
    "outputId": "009fc7d5-1a98-47ff-e78c-bca50c037ac1"
   },
   "outputs": [
    {
     "data": {
      "text/plain": [
       "PosixPath('/mnt/ssd-1/mechinterp/taras/tim-taras-sfc-errors/data')"
      ]
     },
     "execution_count": 4,
     "metadata": {},
     "output_type": "execute_result"
    }
   ],
   "source": [
    "datapath = get_data_path(base_path) \n",
    "datapath"
   ]
  },
  {
   "cell_type": "markdown",
   "metadata": {},
   "source": [
    "## Loading the model"
   ]
  },
  {
   "cell_type": "markdown",
   "metadata": {},
   "source": [
    "We'll work with Gemma-2 2B (base version)"
   ]
  },
  {
   "cell_type": "code",
   "execution_count": 5,
   "metadata": {
    "colab": {
     "base_uri": "https://localhost:8080/",
     "height": 1000,
     "referenced_widgets": [
      "4f58877f38ea480a86950c6efe373d1e",
      "26f50b307e0341738600f67a3839c44c",
      "2e2a85b9842b44b6a58068aea133d7b7",
      "3d782cab680442caa46845a856aafad8",
      "857b9874473e43729dab3f3bd240fd00",
      "39e26871b8f9439aa9f3ca4b10df7d32",
      "32749fc365974bc0a975eae93680b3c3",
      "9f3b97cb27124c649bf19d5146683959",
      "69ff861b41a24c41b6b12eb5600c59e2",
      "78f73a468de847ad80ca04428b584187",
      "ff07663f2ea6428297429b8ad8c5e6ad",
      "70c4b6b0918c4cbdb452dd3d2a304a4e",
      "ead820b804bf465988abad58840605bc",
      "7cf2a945b4fc48e0af2622163a35a484",
      "a0afde3ad1a748e4bc5516c7c75ca04f",
      "5e9abfc3ca6a4d19bff1f159de63d64d",
      "51c40169897a4c21be1f26f60588aa93",
      "97cb7ad01ad04cf8b472fed392685075",
      "a3f1bf3eb1e245bd8bdfb4ecffc9c43d",
      "9ca7f8fd7bbb41088cf4492e06b71027",
      "35945bf1660d47a4ad4190e2bf796212",
      "363fd297dd1e4d55b730dad9989bbe92",
      "b519e34a8ac846c1bbe07fb0f7c47b40",
      "2a4667c1fa3c43fa85911909ade4c208",
      "1e35e267085f40c7b06499edb36398e0",
      "19087122473c430aa3255af99f1c8b77",
      "05d2736b761f40239f148ba84de8c2cb",
      "c47ec2e1e4044971b19dff538a4702f1",
      "738e5b7d60d24f83bf2d1767a1fe1d99",
      "a4d27ae13a4442adabc1bdb42faa8dc8",
      "7e615c58c65f48e4adf9ab6a4b320bbb",
      "fe32bf79d13147fdae30a0055305bc69",
      "c51c032beebd42a8874fa08c7d087eb8",
      "273d1195e6164099afdd02ca3a2b0f9c",
      "e2599eec26aa49b38840fd54a0d42a2e",
      "502ec2273acf4149b25be5165d402583",
      "e9533a2bed6448e7a199f3af58bf1893",
      "99f5fe50d68244708acbc5e4a37230fc",
      "cf249cfe1742424db91c27806810e6c4",
      "9d11e7abf8a04b8bbb84538880281f55",
      "91a1a5929ed24ac4b261618f9e4457bb",
      "0df93b18ecfd479aa59a2f6a1add89c0",
      "b2676bcd797f4505add2ab7f8bbf613b",
      "2793290613ec41d9bb99e7e19ef91c1c",
      "b364f782c8df4864a270a02c2fa3d469",
      "deaf4f52175c4230a417757425b8d9f4",
      "96454b0ef34d4b56837f40f555ecfd4a",
      "5003e891806e496e9c38c3e242f8ef5a",
      "29bb4262b88c46e59f7aaf116f8220ae",
      "85ea2672e549427bad5c82abeafcb4bd",
      "93ef2d5364cc431e8766c7207de28563",
      "3c1a2628c37648b4a50f12960d451011",
      "c130fa85705c49bfbbf71674c78f2313",
      "2bf62dcce3c045ed8d8cca82112ce92f",
      "c4cce6a3648f48ac9711f09c524637fb"
     ]
    },
    "id": "XXyWJjY5lgq_",
    "outputId": "7a621d79-b95a-47cf-a060-666195253763"
   },
   "outputs": [
    {
     "name": "stderr",
     "output_type": "stream",
     "text": [
      "WARNING:root:You tried to specify center_unembed=True for a model using logit softcap, but this can't be done! Softcapping is not invariant upon adding a constantSetting center_unembed=False instead.\n"
     ]
    },
    {
     "name": "stdout",
     "output_type": "stream",
     "text": [
      "Using gemma-2-2b\n"
     ]
    },
    {
     "data": {
      "application/vnd.jupyter.widget-view+json": {
       "model_id": "f7e1e7ff1302457f8e3d43531ce53a24",
       "version_major": 2,
       "version_minor": 0
      },
      "text/plain": [
       "Loading checkpoint shards:   0%|          | 0/3 [00:00<?, ?it/s]"
      ]
     },
     "metadata": {},
     "output_type": "display_data"
    },
    {
     "name": "stderr",
     "output_type": "stream",
     "text": [
      "WARNING:root:With reduced precision, it is advised to use `from_pretrained_no_processing` instead of `from_pretrained`.\n",
      "WARNING:root:You are not using LayerNorm, so the writing weights can't be centered! Skipping\n"
     ]
    },
    {
     "name": "stdout",
     "output_type": "stream",
     "text": [
      "Loaded pretrained model gemma-2-2b into HookedTransformer\n"
     ]
    },
    {
     "data": {
      "text/plain": [
       "HookedSAETransformer(\n",
       "  (embed): Embed()\n",
       "  (hook_embed): HookPoint()\n",
       "  (blocks): ModuleList(\n",
       "    (0-25): 26 x TransformerBlock(\n",
       "      (ln1): RMSNormPre(\n",
       "        (hook_scale): HookPoint()\n",
       "        (hook_normalized): HookPoint()\n",
       "      )\n",
       "      (ln1_post): RMSNorm(\n",
       "        (hook_scale): HookPoint()\n",
       "        (hook_normalized): HookPoint()\n",
       "      )\n",
       "      (ln2): RMSNormPre(\n",
       "        (hook_scale): HookPoint()\n",
       "        (hook_normalized): HookPoint()\n",
       "      )\n",
       "      (ln2_post): RMSNorm(\n",
       "        (hook_scale): HookPoint()\n",
       "        (hook_normalized): HookPoint()\n",
       "      )\n",
       "      (attn): GroupedQueryAttention(\n",
       "        (hook_k): HookPoint()\n",
       "        (hook_q): HookPoint()\n",
       "        (hook_v): HookPoint()\n",
       "        (hook_z): HookPoint()\n",
       "        (hook_attn_scores): HookPoint()\n",
       "        (hook_pattern): HookPoint()\n",
       "        (hook_result): HookPoint()\n",
       "        (hook_rot_k): HookPoint()\n",
       "        (hook_rot_q): HookPoint()\n",
       "      )\n",
       "      (mlp): GatedMLP(\n",
       "        (hook_pre): HookPoint()\n",
       "        (hook_pre_linear): HookPoint()\n",
       "        (hook_post): HookPoint()\n",
       "      )\n",
       "      (hook_attn_in): HookPoint()\n",
       "      (hook_q_input): HookPoint()\n",
       "      (hook_k_input): HookPoint()\n",
       "      (hook_v_input): HookPoint()\n",
       "      (hook_mlp_in): HookPoint()\n",
       "      (hook_attn_out): HookPoint()\n",
       "      (hook_mlp_out): HookPoint()\n",
       "      (hook_resid_pre): HookPoint()\n",
       "      (hook_resid_mid): HookPoint()\n",
       "      (hook_resid_post): HookPoint()\n",
       "    )\n",
       "  )\n",
       "  (ln_final): RMSNormPre(\n",
       "    (hook_scale): HookPoint()\n",
       "    (hook_normalized): HookPoint()\n",
       "  )\n",
       "  (unembed): Unembed()\n",
       ")"
      ]
     },
     "execution_count": 5,
     "metadata": {},
     "output_type": "execute_result"
    }
   ],
   "source": [
    "from sae_lens import HookedSAETransformer\n",
    "\n",
    "USE_INSTRUCT = False\n",
    "PARAMS_COUNT = 2\n",
    "\n",
    "MODEL_NAME = f'gemma-2-{PARAMS_COUNT}b' + ('-it' if USE_INSTRUCT else '')\n",
    "print(f'Using {MODEL_NAME}')\n",
    "\n",
    "model = HookedSAETransformer.from_pretrained(MODEL_NAME, device=device, dtype=torch.bfloat16)\n",
    "model"
   ]
  },
  {
   "cell_type": "markdown",
   "metadata": {},
   "source": [
    "## Loading the data"
   ]
  },
  {
   "cell_type": "markdown",
   "metadata": {},
   "source": [
    "This uses my custom dataloader class, which parses raw data and prepares into a nice format for SFC, including providing some useful metadata such as token positions for where the answer should be, attention masks etc. The details of the class are convoluted because it was developed for a more general purpose than verb agreement tasks, so you can largely ignore the next few cells."
   ]
  },
  {
   "cell_type": "code",
   "execution_count": 6,
   "metadata": {},
   "outputs": [],
   "source": [
    "from classes.sfc_data_loader import SFCDatasetLoader\n",
    "import utils.prompts as prompts\n",
    "from utils.enums import *"
   ]
  },
  {
   "cell_type": "code",
   "execution_count": 7,
   "metadata": {},
   "outputs": [
    {
     "name": "stdout",
     "output_type": "stream",
     "text": [
      "WARNING: Clean system prompt not provided.\n",
      "WARNING: Corrupted system prompt not provided.\n",
      "WARNING: Task prompt not provided.\n"
     ]
    }
   ],
   "source": [
    "DATASET_NAME = SupportedDatasets.VERB_AGREEMENT\n",
    "\n",
    "dataloader = SFCDatasetLoader(DATASET_NAME, model,\n",
    "                              local_dataset=True, base_folder_path=datapath)"
   ]
  },
  {
   "cell_type": "code",
   "execution_count": 8,
   "metadata": {},
   "outputs": [
    {
     "name": "stdout",
     "output_type": "stream",
     "text": [
      "Figuring out optimal padding length...\n",
      "Filtered out 484 longest prompts from a total of 10560 prompts.\n",
      "Setting max prompt length to 8\n"
     ]
    },
    {
     "name": "stderr",
     "output_type": "stream",
     "text": [
      "100%|██████████| 10076/10076 [00:14<00:00, 675.35it/s]\n"
     ]
    }
   ],
   "source": [
    "clean_dataset, corrupted_dataset = dataloader.get_clean_corrupted_datasets(tokenize=True, apply_chat_template=False, prepend_generation_prefix=True)"
   ]
  },
  {
   "cell_type": "markdown",
   "metadata": {},
   "source": [
    "Corrupted dataset here refers to the collection of patched prompts and their answers (verb completions) in the SFC paper terminology."
   ]
  },
  {
   "cell_type": "code",
   "execution_count": 9,
   "metadata": {},
   "outputs": [
    {
     "data": {
      "text/plain": [
       "(2, 8)"
      ]
     },
     "execution_count": 9,
     "metadata": {},
     "output_type": "execute_result"
    }
   ],
   "source": [
    "CONTROL_SEQ_LEN = clean_dataset['control_sequence_length'][0].item() # how many first tokens to ignore when computing SFC scores\n",
    "N_CONTEXT = clean_dataset['prompt'].shape[1]\n",
    "\n",
    "CONTROL_SEQ_LEN, N_CONTEXT"
   ]
  },
  {
   "cell_type": "code",
   "execution_count": 10,
   "metadata": {},
   "outputs": [
    {
     "name": "stdout",
     "output_type": "stream",
     "text": [
      "Clean dataset:\n",
      "\n",
      "Prompt: <bos>The doctors that the executives like<pad>\n",
      "\n",
      "(-2, <bos>) (-1, The) (0,  doctors) (1,  that) (2,  the) (3,  executives) (4,  like) (5, <pad>) \n",
      "\n",
      "Prompt: <bos>The fathers that the driver visits<pad>\n",
      "\n",
      "(-2, <bos>) (-1, The) (0,  fathers) (1,  that) (2,  the) (3,  driver) (4,  visits) (5, <pad>) \n",
      "\n",
      "Prompt: <bos>The boys that the parents inform<pad>\n",
      "\n",
      "(-2, <bos>) (-1, The) (0,  boys) (1,  that) (2,  the) (3,  parents) (4,  inform) (5, <pad>) \n",
      "Corrupted dataset:\n",
      "\n",
      "Prompt: <bos>The doctor that the executives like<pad>\n",
      "\n",
      "(-2, <bos>) (-1, The) (0,  doctor) (1,  that) (2,  the) (3,  executives) (4,  like) (5, <pad>) \n",
      "\n",
      "Prompt: <bos>The father that the driver visits<pad>\n",
      "\n",
      "(-2, <bos>) (-1, The) (0,  father) (1,  that) (2,  the) (3,  driver) (4,  visits) (5, <pad>) \n",
      "\n",
      "Prompt: <bos>The boy that the parents inform<pad>\n",
      "\n",
      "(-2, <bos>) (-1, The) (0,  boy) (1,  that) (2,  the) (3,  parents) (4,  inform) (5, <pad>) \n"
     ]
    }
   ],
   "source": [
    "print('Clean dataset:')\n",
    "for prompt in clean_dataset['prompt'][:3]:\n",
    "  print(\"\\nPrompt:\", model.to_string(prompt), end='\\n\\n')\n",
    "\n",
    "  for i, tok in enumerate(prompt):\n",
    "    str_token = model.to_string(tok)\n",
    "    print(f\"({i-CONTROL_SEQ_LEN}, {str_token})\", end=' ')\n",
    "  print()\n",
    "\n",
    "print('Corrupted dataset:')\n",
    "for prompt in corrupted_dataset['prompt'][:3]:\n",
    "  print(\"\\nPrompt:\", model.to_string(prompt), end='\\n\\n')\n",
    "  \n",
    "  for i, tok in enumerate(prompt):\n",
    "    str_token = model.to_string(tok)\n",
    "    print(f\"({i-CONTROL_SEQ_LEN}, {str_token})\", end=' ')\n",
    "  print()"
   ]
  },
  {
   "cell_type": "code",
   "execution_count": 11,
   "metadata": {},
   "outputs": [],
   "source": [
    "# Sanity checks\n",
    "\n",
    "# Control sequence length must be the same for all samples in both datasets\n",
    "clean_ds_control_len = clean_dataset['control_sequence_length']\n",
    "corrupted_ds_control_len = corrupted_dataset['control_sequence_length']\n",
    "\n",
    "assert torch.all(corrupted_ds_control_len == corrupted_ds_control_len[0]), \"Control sequence length is not the same for all samples in the dataset\"\n",
    "assert torch.all(clean_ds_control_len == clean_ds_control_len[0]), \"Control sequence length is not the same for all samples in the dataset\"\n",
    "assert clean_ds_control_len[0] == corrupted_ds_control_len[0], \"Control sequence length is not the same for clean and corrupted samples in the dataset\"\n",
    "assert clean_dataset['answer'].max().item() < model.cfg.d_vocab, \"Clean answers exceed vocab size\"\n",
    "assert corrupted_dataset['answer'].max().item() < model.cfg.d_vocab, \"Patched answers exceed vocab size\"\n",
    "assert (clean_dataset['answer_pos'] < N_CONTEXT).all().item(), \"Answer positions exceed logits length\"\n",
    "assert (corrupted_dataset['answer_pos'] < N_CONTEXT).all().item(), \"Answer positions exceed logits length\""
   ]
  },
  {
   "cell_type": "markdown",
   "metadata": {
    "id": "GEBXjdpZ9ppj"
   },
   "source": [
    "# Setting up the SAEs"
   ]
  },
  {
   "cell_type": "code",
   "execution_count": 12,
   "metadata": {
    "id": "Bso8JcVX-dbV"
   },
   "outputs": [
    {
     "data": {
      "text/plain": [
       "'cuda:1'"
      ]
     },
     "execution_count": 12,
     "metadata": {},
     "output_type": "execute_result"
    }
   ],
   "source": [
    "from classes.sfc_model import SFC_Gemma\n",
    "\n",
    "RUN_WITH_SAES = True # we'll need to run the model with attached SAEs to store the mean acts of SAE latents and errors\n",
    "\n",
    "# Determine the caching device, where we'll load our SAEs and compute the SFC scores\n",
    "if RUN_WITH_SAES:\n",
    "    caching_device = device \n",
    "else:\n",
    "    caching_device = \"cuda:0\"\n",
    "\n",
    "\n",
    "caching_device"
   ]
  },
  {
   "cell_type": "markdown",
   "metadata": {},
   "source": [
    "For replicating the SFC part from the paper I used my custom SFC_Gemma class. In short, it\n",
    "- Loads a Gemma model and its Gemma Scope SAEs (either attaching them to the model or not)\n",
    "- Provides interface methods to compute SFC scores (currently, only attr patching is supported) on an arbitrary dataset (that follows the format of my SFCDatasetLoader class from above)"
   ]
  },
  {
   "cell_type": "code",
   "execution_count": 13,
   "metadata": {
    "collapsed": true,
    "id": "D8QfPbynEl62",
    "jupyter": {
     "outputs_hidden": true,
     "source_hidden": true
    }
   },
   "outputs": [
    {
     "name": "stdout",
     "output_type": "stream",
     "text": [
      "Using 16K SAEs for the first 26 layers, the rest 0 layer(s) - 131k SAEs\n",
      "Loaded SFC scores from /mnt/ssd-1/mechinterp/taras/tim-taras-sfc-errors/data/sva_rc/sfc_scores.pkl\n"
     ]
    }
   ],
   "source": [
    "EXPERIMENT = 'sva_rc'\n",
    "\n",
    "clear_cache()\n",
    "sfc_model = SFC_Gemma(model, params_count=PARAMS_COUNT, control_seq_len=CONTROL_SEQ_LEN, \n",
    "                      attach_saes=RUN_WITH_SAES, caching_device=caching_device,\n",
    "                      data_dir=datapath, experiment_name=EXPERIMENT)\n",
    "clear_cache()\n",
    "\n",
    "# sfc_model.print_saes()\n",
    "# sfc_model.model.cfg\n",
    "# , sfc_model.saes[0].cfg.dtype"
   ]
  },
  {
   "cell_type": "markdown",
   "metadata": {},
   "source": [
    "# Computing Mean Activations"
   ]
  },
  {
   "cell_type": "markdown",
   "metadata": {},
   "source": [
    "Here we'll call the corresponding method from the CircuitEvaluator class. This class encapsulates the SFC circuit evaluation algorithms."
   ]
  },
  {
   "cell_type": "code",
   "execution_count": 14,
   "metadata": {},
   "outputs": [
    {
     "name": "stdout",
     "output_type": "stream",
     "text": [
      "No mean activations found. You may need to compute them with compute_mean_node_activations.\n"
     ]
    }
   ],
   "source": [
    "from classes.sfc_evaluator import CircuitEvaluator\n",
    "\n",
    "evaluator = CircuitEvaluator(sfc_model)"
   ]
  },
  {
   "cell_type": "code",
   "execution_count": 19,
   "metadata": {
    "colab": {
     "base_uri": "https://localhost:8080/"
    },
    "id": "ETBRtzLK3tu1",
    "outputId": "279d50fa-2ad3-4e4d-f8d0-9a788bce7197"
   },
   "outputs": [
    {
     "name": "stdout",
     "output_type": "stream",
     "text": [
      "Processing clean dataset:\n"
     ]
    },
    {
     "data": {
      "application/vnd.jupyter.widget-view+json": {
       "model_id": "d5964406ead544a58459a5d7a02e2357",
       "version_major": 2,
       "version_minor": 0
      },
      "text/plain": [
       "  0%|          | 0/12 [00:00<?, ?it/s]"
      ]
     },
     "metadata": {},
     "output_type": "display_data"
    },
    {
     "name": "stdout",
     "output_type": "stream",
     "text": [
      "Processing corrupted dataset:\n"
     ]
    },
    {
     "data": {
      "application/vnd.jupyter.widget-view+json": {
       "model_id": "0af5840419ee4bc080b9a8a60fd593eb",
       "version_major": 2,
       "version_minor": 0
      },
      "text/plain": [
       "  0%|          | 0/12 [00:00<?, ?it/s]"
      ]
     },
     "metadata": {},
     "output_type": "display_data"
    },
    {
     "name": "stdout",
     "output_type": "stream",
     "text": [
      "Saving mean activations to /mnt/ssd-1/mechinterp/taras/tim-taras-sfc-errors/data/sva_rc\n"
     ]
    },
    {
     "data": {
      "text/plain": [
       "dict_keys(['blocks.0.attn.hook_z.hook_sae_acts_post', 'blocks.0.attn.hook_z.hook_sae_error', 'blocks.0.hook_mlp_out.hook_sae_acts_post', 'blocks.0.hook_mlp_out.hook_sae_error', 'blocks.0.hook_resid_post.hook_sae_acts_post', 'blocks.0.hook_resid_post.hook_sae_error', 'blocks.1.attn.hook_z.hook_sae_acts_post', 'blocks.1.attn.hook_z.hook_sae_error', 'blocks.1.hook_mlp_out.hook_sae_acts_post', 'blocks.1.hook_mlp_out.hook_sae_error', 'blocks.1.hook_resid_post.hook_sae_acts_post', 'blocks.1.hook_resid_post.hook_sae_error', 'blocks.2.attn.hook_z.hook_sae_acts_post', 'blocks.2.attn.hook_z.hook_sae_error', 'blocks.2.hook_mlp_out.hook_sae_acts_post', 'blocks.2.hook_mlp_out.hook_sae_error', 'blocks.2.hook_resid_post.hook_sae_acts_post', 'blocks.2.hook_resid_post.hook_sae_error', 'blocks.3.attn.hook_z.hook_sae_acts_post', 'blocks.3.attn.hook_z.hook_sae_error', 'blocks.3.hook_mlp_out.hook_sae_acts_post', 'blocks.3.hook_mlp_out.hook_sae_error', 'blocks.3.hook_resid_post.hook_sae_acts_post', 'blocks.3.hook_resid_post.hook_sae_error', 'blocks.4.attn.hook_z.hook_sae_acts_post', 'blocks.4.attn.hook_z.hook_sae_error', 'blocks.4.hook_mlp_out.hook_sae_acts_post', 'blocks.4.hook_mlp_out.hook_sae_error', 'blocks.4.hook_resid_post.hook_sae_acts_post', 'blocks.4.hook_resid_post.hook_sae_error', 'blocks.5.attn.hook_z.hook_sae_acts_post', 'blocks.5.attn.hook_z.hook_sae_error', 'blocks.5.hook_mlp_out.hook_sae_acts_post', 'blocks.5.hook_mlp_out.hook_sae_error', 'blocks.5.hook_resid_post.hook_sae_acts_post', 'blocks.5.hook_resid_post.hook_sae_error', 'blocks.6.attn.hook_z.hook_sae_acts_post', 'blocks.6.attn.hook_z.hook_sae_error', 'blocks.6.hook_mlp_out.hook_sae_acts_post', 'blocks.6.hook_mlp_out.hook_sae_error', 'blocks.6.hook_resid_post.hook_sae_acts_post', 'blocks.6.hook_resid_post.hook_sae_error', 'blocks.7.attn.hook_z.hook_sae_acts_post', 'blocks.7.attn.hook_z.hook_sae_error', 'blocks.7.hook_mlp_out.hook_sae_acts_post', 'blocks.7.hook_mlp_out.hook_sae_error', 'blocks.7.hook_resid_post.hook_sae_acts_post', 'blocks.7.hook_resid_post.hook_sae_error', 'blocks.8.attn.hook_z.hook_sae_acts_post', 'blocks.8.attn.hook_z.hook_sae_error', 'blocks.8.hook_mlp_out.hook_sae_acts_post', 'blocks.8.hook_mlp_out.hook_sae_error', 'blocks.8.hook_resid_post.hook_sae_acts_post', 'blocks.8.hook_resid_post.hook_sae_error', 'blocks.9.attn.hook_z.hook_sae_acts_post', 'blocks.9.attn.hook_z.hook_sae_error', 'blocks.9.hook_mlp_out.hook_sae_acts_post', 'blocks.9.hook_mlp_out.hook_sae_error', 'blocks.9.hook_resid_post.hook_sae_acts_post', 'blocks.9.hook_resid_post.hook_sae_error', 'blocks.10.attn.hook_z.hook_sae_acts_post', 'blocks.10.attn.hook_z.hook_sae_error', 'blocks.10.hook_mlp_out.hook_sae_acts_post', 'blocks.10.hook_mlp_out.hook_sae_error', 'blocks.10.hook_resid_post.hook_sae_acts_post', 'blocks.10.hook_resid_post.hook_sae_error', 'blocks.11.attn.hook_z.hook_sae_acts_post', 'blocks.11.attn.hook_z.hook_sae_error', 'blocks.11.hook_mlp_out.hook_sae_acts_post', 'blocks.11.hook_mlp_out.hook_sae_error', 'blocks.11.hook_resid_post.hook_sae_acts_post', 'blocks.11.hook_resid_post.hook_sae_error', 'blocks.12.attn.hook_z.hook_sae_acts_post', 'blocks.12.attn.hook_z.hook_sae_error', 'blocks.12.hook_mlp_out.hook_sae_acts_post', 'blocks.12.hook_mlp_out.hook_sae_error', 'blocks.12.hook_resid_post.hook_sae_acts_post', 'blocks.12.hook_resid_post.hook_sae_error', 'blocks.13.attn.hook_z.hook_sae_acts_post', 'blocks.13.attn.hook_z.hook_sae_error', 'blocks.13.hook_mlp_out.hook_sae_acts_post', 'blocks.13.hook_mlp_out.hook_sae_error', 'blocks.13.hook_resid_post.hook_sae_acts_post', 'blocks.13.hook_resid_post.hook_sae_error', 'blocks.14.attn.hook_z.hook_sae_acts_post', 'blocks.14.attn.hook_z.hook_sae_error', 'blocks.14.hook_mlp_out.hook_sae_acts_post', 'blocks.14.hook_mlp_out.hook_sae_error', 'blocks.14.hook_resid_post.hook_sae_acts_post', 'blocks.14.hook_resid_post.hook_sae_error', 'blocks.15.attn.hook_z.hook_sae_acts_post', 'blocks.15.attn.hook_z.hook_sae_error', 'blocks.15.hook_mlp_out.hook_sae_acts_post', 'blocks.15.hook_mlp_out.hook_sae_error', 'blocks.15.hook_resid_post.hook_sae_acts_post', 'blocks.15.hook_resid_post.hook_sae_error', 'blocks.16.attn.hook_z.hook_sae_acts_post', 'blocks.16.attn.hook_z.hook_sae_error', 'blocks.16.hook_mlp_out.hook_sae_acts_post', 'blocks.16.hook_mlp_out.hook_sae_error', 'blocks.16.hook_resid_post.hook_sae_acts_post', 'blocks.16.hook_resid_post.hook_sae_error', 'blocks.17.attn.hook_z.hook_sae_acts_post', 'blocks.17.attn.hook_z.hook_sae_error', 'blocks.17.hook_mlp_out.hook_sae_acts_post', 'blocks.17.hook_mlp_out.hook_sae_error', 'blocks.17.hook_resid_post.hook_sae_acts_post', 'blocks.17.hook_resid_post.hook_sae_error', 'blocks.18.attn.hook_z.hook_sae_acts_post', 'blocks.18.attn.hook_z.hook_sae_error', 'blocks.18.hook_mlp_out.hook_sae_acts_post', 'blocks.18.hook_mlp_out.hook_sae_error', 'blocks.18.hook_resid_post.hook_sae_acts_post', 'blocks.18.hook_resid_post.hook_sae_error', 'blocks.19.attn.hook_z.hook_sae_acts_post', 'blocks.19.attn.hook_z.hook_sae_error', 'blocks.19.hook_mlp_out.hook_sae_acts_post', 'blocks.19.hook_mlp_out.hook_sae_error', 'blocks.19.hook_resid_post.hook_sae_acts_post', 'blocks.19.hook_resid_post.hook_sae_error', 'blocks.20.attn.hook_z.hook_sae_acts_post', 'blocks.20.attn.hook_z.hook_sae_error', 'blocks.20.hook_mlp_out.hook_sae_acts_post', 'blocks.20.hook_mlp_out.hook_sae_error', 'blocks.20.hook_resid_post.hook_sae_acts_post', 'blocks.20.hook_resid_post.hook_sae_error', 'blocks.21.attn.hook_z.hook_sae_acts_post', 'blocks.21.attn.hook_z.hook_sae_error', 'blocks.21.hook_mlp_out.hook_sae_acts_post', 'blocks.21.hook_mlp_out.hook_sae_error', 'blocks.21.hook_resid_post.hook_sae_acts_post', 'blocks.21.hook_resid_post.hook_sae_error', 'blocks.22.attn.hook_z.hook_sae_acts_post', 'blocks.22.attn.hook_z.hook_sae_error', 'blocks.22.hook_mlp_out.hook_sae_acts_post', 'blocks.22.hook_mlp_out.hook_sae_error', 'blocks.22.hook_resid_post.hook_sae_acts_post', 'blocks.22.hook_resid_post.hook_sae_error', 'blocks.23.attn.hook_z.hook_sae_acts_post', 'blocks.23.attn.hook_z.hook_sae_error', 'blocks.23.hook_mlp_out.hook_sae_acts_post', 'blocks.23.hook_mlp_out.hook_sae_error', 'blocks.23.hook_resid_post.hook_sae_acts_post', 'blocks.23.hook_resid_post.hook_sae_error', 'blocks.24.attn.hook_z.hook_sae_acts_post', 'blocks.24.attn.hook_z.hook_sae_error', 'blocks.24.hook_mlp_out.hook_sae_acts_post', 'blocks.24.hook_mlp_out.hook_sae_error', 'blocks.24.hook_resid_post.hook_sae_acts_post', 'blocks.24.hook_resid_post.hook_sae_error', 'blocks.25.attn.hook_z.hook_sae_acts_post', 'blocks.25.attn.hook_z.hook_sae_error', 'blocks.25.hook_mlp_out.hook_sae_acts_post', 'blocks.25.hook_mlp_out.hook_sae_error', 'blocks.25.hook_resid_post.hook_sae_acts_post', 'blocks.25.hook_resid_post.hook_sae_error'])"
      ]
     },
     "execution_count": 19,
     "metadata": {},
     "output_type": "execute_result"
    }
   ],
   "source": [
    "batch_size = 900\n",
    "total_batches = None\n",
    "\n",
    "# Reset the hooks to avoid weird bugs\n",
    "sfc_model.model.reset_hooks()\n",
    "if RUN_WITH_SAES:\n",
    "    sfc_model._reset_sae_hooks()\n",
    "\n",
    "# Below we'll call the main interface method for computing the mean scores\n",
    "mean_scores = evaluator.compute_mean_node_activations(clean_dataset, corrupted_dataset, \n",
    "                                                      batch_size=batch_size, total_batches=total_batches)\n",
    "mean_scores.keys()"
   ]
  },
  {
   "cell_type": "code",
   "execution_count": 20,
   "metadata": {},
   "outputs": [],
   "source": [
    "# Total amount of scores should be n_layers * len(['resid', 'mlp', 'attn']) * len(['sae_latent', 'sae_error'])\n",
    "assert len(mean_scores) == sfc_model.model.cfg.n_layers * 3 * 2"
   ]
  },
  {
   "cell_type": "code",
   "execution_count": 21,
   "metadata": {},
   "outputs": [
    {
     "data": {
      "text/plain": [
       "(torch.Size([8, 8, 256]),\n",
       " torch.Size([8, 16384]),\n",
       " torch.Size([8, 2304]),\n",
       " torch.Size([8, 16384]),\n",
       " torch.Size([8, 2304]),\n",
       " torch.Size([8, 16384]))"
      ]
     },
     "execution_count": 21,
     "metadata": {},
     "output_type": "execute_result"
    }
   ],
   "source": [
    "# Shapes check\n",
    "mean_scores['blocks.0.attn.hook_z.hook_sae_error'].shape, mean_scores['blocks.0.attn.hook_z.hook_sae_acts_post'].shape, \\\n",
    "mean_scores['blocks.0.hook_mlp_out.hook_sae_error'].shape, mean_scores['blocks.0.hook_mlp_out.hook_sae_acts_post'].shape, \\\n",
    "mean_scores['blocks.0.hook_resid_post.hook_sae_error'].shape, mean_scores['blocks.0.hook_resid_post.hook_sae_acts_post'].shape\n",
    "\n",
    "# Only the first attn error should have a different shape (accounting for each head) - [pos, n_head, d_head]\n",
    "# All other errors should be [pos, d_model]\n",
    "# All latents (hook_sae_acts_post) should be [pos, d_sae]"
   ]
  },
  {
   "cell_type": "markdown",
   "metadata": {},
   "source": [
    "# Results check"
   ]
  },
  {
   "cell_type": "markdown",
   "metadata": {},
   "source": [
    "#### Setup x2 for running the notebook from this section (don't read)"
   ]
  },
  {
   "cell_type": "code",
   "execution_count": 3,
   "metadata": {},
   "outputs": [
    {
     "name": "stdout",
     "output_type": "stream",
     "text": [
      "The autoreload extension is already loaded. To reload it, use:\n",
      "  %reload_ext autoreload\n",
      "Device: cuda:3\n",
      "Base path: /mnt/ssd-1/mechinterp/taras/tim-taras-sfc-errors\n",
      "Project path: /mnt/ssd-1/mechinterp/taras/tim-taras-sfc-errors/sfc-errors\n"
     ]
    },
    {
     "data": {
      "text/plain": [
       "PosixPath('/mnt/ssd-1/mechinterp/taras/tim-taras-sfc-errors/data')"
      ]
     },
     "execution_count": 3,
     "metadata": {},
     "output_type": "execute_result"
    }
   ],
   "source": [
    "from IPython import get_ipython # type: ignore\n",
    "ipython = get_ipython(); assert ipython is not None\n",
    "ipython.run_line_magic(\"load_ext\", \"autoreload\")\n",
    "ipython.run_line_magic(\"autoreload\", \"2\")\n",
    "\n",
    "# Standard imports\n",
    "import os\n",
    "import torch\n",
    "import numpy as np\n",
    "from tqdm import tqdm\n",
    "import plotly.express as px\n",
    "import pandas as pd\n",
    "import einops\n",
    "from jaxtyping import Float, Int\n",
    "from torch import Tensor\n",
    "\n",
    "torch.set_grad_enabled(False)\n",
    "\n",
    "# Device setup\n",
    "GPU_TO_USE = 3\n",
    "\n",
    "if torch.backends.mps.is_available():\n",
    "    device = \"mps\"\n",
    "else:\n",
    "    device = f\"cuda:{GPU_TO_USE}\" if torch.cuda.is_available() else \"cpu\"\n",
    "\n",
    "print(f\"Device: {device}\")\n",
    "\n",
    "# utility to clear variables out of the memory & and clearing cuda cache\n",
    "import gc\n",
    "def clear_cache():\n",
    "    gc.collect()\n",
    "    torch.cuda.empty_cache()\n",
    "\n",
    "from pathlib import Path\n",
    "import sys\n",
    "import os\n",
    "\n",
    "def get_base_folder(parent_dir_name =  \"tim-taras-sfc-errors\"):\n",
    "\t# Find the project root dynamically\n",
    "\tcurrent_dir = os.getcwd()\n",
    "\twhile True:\n",
    "\t\tif os.path.basename(current_dir) == parent_dir_name:  # Adjust to match your project root folder name\n",
    "\t\t\tbreak\n",
    "\t\tparent = os.path.dirname(current_dir)\n",
    "\t\tif parent == current_dir:  # Stop if we reach the system root (failsafe)\n",
    "\t\t\traise RuntimeError(f\"Project root {parent_dir_name} not found. Check your folder structure.\")\n",
    "\t\tcurrent_dir = parent\n",
    "\n",
    "\treturn current_dir\n",
    "\n",
    "def get_data_path(base_folder=None, data_folder_name='data'):\n",
    "\tif base_folder is None:\n",
    "\t\tbase_folder = get_base_folder()\n",
    "\n",
    "\treturn Path(base_folder) / data_folder_name\n",
    "\n",
    "def get_project_folder(base_folder=None, project_folder_name='sfc-errors'):\n",
    "\tif base_folder is None:\n",
    "\t\tbase_folder = get_base_folder()\n",
    "\t\n",
    "\treturn Path(base_folder) / project_folder_name\n",
    "\n",
    "base_path = get_base_folder()\n",
    "print(f\"Base path: {base_path}\")\n",
    "\n",
    "project_path = get_project_folder(base_folder=base_path)\n",
    "print(f\"Project path: {project_path}\")\n",
    "\n",
    "# Add the parent directory (sfc_deception) to sys.path\n",
    "sys.path.append(base_path)\n",
    "sys.path.append(str(project_path))\n",
    "\n",
    "datapath = get_data_path(base_path) \n",
    "datapath"
   ]
  },
  {
   "cell_type": "markdown",
   "metadata": {},
   "source": [
    "Load all of our computed SFC scores and caches:"
   ]
  },
  {
   "cell_type": "code",
   "execution_count": 10,
   "metadata": {},
   "outputs": [
    {
     "name": "stdout",
     "output_type": "stream",
     "text": [
      "Loaded SFC scores from /mnt/ssd-1/mechinterp/taras/tim-taras-sfc-errors/data/sva_rc/sfc_scores.pkl\n",
      "Loaded mean activations from /mnt/ssd-1/mechinterp/taras/tim-taras-sfc-errors/data/sva_rc/mean_activations.pkl\n"
     ]
    },
    {
     "data": {
      "text/plain": [
       "device(type='cuda', index=3)"
      ]
     },
     "execution_count": 10,
     "metadata": {},
     "output_type": "execute_result"
    }
   ],
   "source": [
    "from classes.sfc_node_scores import SFC_NodeScores\n",
    "EXPERIMENT = 'sva_rc'\n",
    "\n",
    "sfc_scores = SFC_NodeScores(\n",
    "    device=device,\n",
    "    data_dir=datapath,\n",
    "    experiment_name=EXPERIMENT,\n",
    "    load_if_exists=True  # This will automatically load our computed scores\n",
    ")\n",
    "\n",
    "sfc_scores.node_scores['blocks.0.attn.hook_z.hook_sae_error'].device #  checking if device mapping works (it does) "
   ]
  },
  {
   "cell_type": "markdown",
   "metadata": {},
   "source": [
    "### Checking error norms"
   ]
  },
  {
   "cell_type": "markdown",
   "metadata": {},
   "source": [
    "One simple thing to check is whether resid error norms increase monotonically with the layer number. Based on the results of `stage_1/analyze_error_scores.ipynb` - they should, so let's see if this holds for mean error activations."
   ]
  },
  {
   "cell_type": "code",
   "execution_count": 16,
   "metadata": {},
   "outputs": [
    {
     "name": "stdout",
     "output_type": "stream",
     "text": [
      "Returned 26 keys: dict_keys(['blocks.0.hook_resid_post.hook_sae_error', 'blocks.1.hook_resid_post.hook_sae_error', 'blocks.2.hook_resid_post.hook_sae_error', 'blocks.3.hook_resid_post.hook_sae_error', 'blocks.4.hook_resid_post.hook_sae_error', 'blocks.5.hook_resid_post.hook_sae_error', 'blocks.6.hook_resid_post.hook_sae_error', 'blocks.7.hook_resid_post.hook_sae_error', 'blocks.8.hook_resid_post.hook_sae_error', 'blocks.9.hook_resid_post.hook_sae_error', 'blocks.10.hook_resid_post.hook_sae_error', 'blocks.11.hook_resid_post.hook_sae_error', 'blocks.12.hook_resid_post.hook_sae_error', 'blocks.13.hook_resid_post.hook_sae_error', 'blocks.14.hook_resid_post.hook_sae_error', 'blocks.15.hook_resid_post.hook_sae_error', 'blocks.16.hook_resid_post.hook_sae_error', 'blocks.17.hook_resid_post.hook_sae_error', 'blocks.18.hook_resid_post.hook_sae_error', 'blocks.19.hook_resid_post.hook_sae_error', 'blocks.20.hook_resid_post.hook_sae_error', 'blocks.21.hook_resid_post.hook_sae_error', 'blocks.22.hook_resid_post.hook_sae_error', 'blocks.23.hook_resid_post.hook_sae_error', 'blocks.24.hook_resid_post.hook_sae_error', 'blocks.25.hook_resid_post.hook_sae_error'])\n"
     ]
    }
   ],
   "source": [
    "resid_error_mean_act = sfc_scores.select_node_scores(lambda x: 'hook_resid_post.hook_sae_error' in x, 'mean_act')\n",
    "print(f'Returned {len(resid_error_mean_act.keys())} keys: {resid_error_mean_act.keys()}')"
   ]
  },
  {
   "cell_type": "code",
   "execution_count": 17,
   "metadata": {},
   "outputs": [
    {
     "data": {
      "text/plain": [
       "torch.Size([8, 2304])"
      ]
     },
     "execution_count": 17,
     "metadata": {},
     "output_type": "execute_result"
    }
   ],
   "source": [
    "resid_error_mean_act['blocks.0.hook_resid_post.hook_sae_error'].shape"
   ]
  },
  {
   "cell_type": "code",
   "execution_count": 18,
   "metadata": {},
   "outputs": [
    {
     "data": {
      "text/plain": [
       "torch.Size([8])"
      ]
     },
     "execution_count": 18,
     "metadata": {},
     "output_type": "execute_result"
    }
   ],
   "source": [
    "# Compute norms of mean error activations\n",
    "resid_error_mean_norms = {key: score_tensor.norm(dim=-1) for key, score_tensor in resid_error_mean_act.items()}\n",
    "resid_error_mean_norms['blocks.0.hook_resid_post.hook_sae_error'].shape"
   ]
  },
  {
   "cell_type": "code",
   "execution_count": null,
   "metadata": {},
   "outputs": [],
   "source": [
    "def plot_mean_norms(mean_norms, positions_to_plot=[-2], title='Norms of mean SAE errors'):\n",
    "    \"\"\"\n",
    "    Plots the mean norms of SAE errors for each layer using Plotly.\n",
    "    \n",
    "    Args:\n",
    "        mean_norms (dict): Dictionary with keys like 'blocks.{j}.hook_resid_post.hook_sae_error' \n",
    "                          and values as tensors of shape [num_positions]\n",
    "        positions_to_plot (list): List of positions to plot (indices into the first dimension), \n",
    "                                 default is [-2] (second to last)\n",
    "        title (str): Title for the plot\n",
    "        \n",
    "    Returns:\n",
    "        plotly.graph_objects.Figure: The plotly figure object\n",
    "    \"\"\"\n",
    "    import plotly.graph_objects as go\n",
    "    import re\n",
    "    \n",
    "    # Get the number of positions from the first tensor's shape\n",
    "    first_key = next(iter(mean_norms))\n",
    "    num_positions = mean_norms[first_key].shape[0]\n",
    "    \n",
    "    # Ensure positions_to_plot is a list\n",
    "    if not isinstance(positions_to_plot, list):\n",
    "        positions_to_plot = [positions_to_plot]\n",
    "    \n",
    "    # Create the plot\n",
    "    fig = go.Figure()\n",
    "    \n",
    "    for position in positions_to_plot:\n",
    "        # Convert negative position index to positive if needed\n",
    "        pos = position if position >= 0 else num_positions + position\n",
    "        \n",
    "        # Extract layer indices and corresponding norm values for the specified position\n",
    "        layer_indices = []\n",
    "        norm_values = []\n",
    "        \n",
    "        for key, norm_tensor in mean_norms.items():\n",
    "            # Use regex to extract the layer number from keys like 'blocks.{j}.hook_resid_post.hook_sae_error'\n",
    "            match = re.search(r'blocks\\.(\\d+)\\.', key)\n",
    "            if match:\n",
    "                layer_idx = int(match.group(1))\n",
    "                # Get the norm value for the specified position\n",
    "                norm_value = float(norm_tensor[pos].item())\n",
    "                \n",
    "                layer_indices.append(layer_idx)\n",
    "                norm_values.append(norm_value)\n",
    "        \n",
    "        # Sort by layer index to ensure correct ordering\n",
    "        sorted_data = sorted(zip(layer_indices, norm_values))\n",
    "        sorted_layer_indices, sorted_norm_values = zip(*sorted_data) if sorted_data else ([], [])\n",
    "        \n",
    "        # Add a trace for this position\n",
    "        fig.add_trace(\n",
    "            go.Scatter(\n",
    "                x=sorted_layer_indices,\n",
    "                y=sorted_norm_values,\n",
    "                mode='lines+markers',\n",
    "                name=f'Position {position}'\n",
    "            )\n",
    "        )\n",
    "    \n",
    "    # Set plot title and labels\n",
    "    fig.update_layout(\n",
    "        title=title,\n",
    "        xaxis_title='Layer',\n",
    "        yaxis_title='Norm Value',\n",
    "        xaxis=dict(tickmode='linear'),\n",
    "        template='plotly_white',\n",
    "        legend_title=\"Position\"\n",
    "    )\n",
    "    \n",
    "    return fig"
   ]
  },
  {
   "cell_type": "code",
   "execution_count": 29,
   "metadata": {},
   "outputs": [
    {
     "data": {
      "application/vnd.plotly.v1+json": {
       "config": {
        "plotlyServerURL": "https://plot.ly"
       },
       "data": [
        {
         "mode": "lines+markers",
         "name": "Position 2",
         "type": "scatter",
         "x": [
          0,
          1,
          2,
          3,
          4,
          5,
          6,
          7,
          8,
          9,
          10,
          11,
          12,
          13,
          14,
          15,
          16,
          17,
          18,
          19,
          20,
          21,
          22,
          23,
          24,
          25
         ],
         "y": [
          9.5625,
          9.625,
          9.75,
          11.6875,
          11.4375,
          15.5,
          16.125,
          17.375,
          16.5,
          18.5,
          20.5,
          22.25,
          21.375,
          26,
          29.25,
          32,
          38,
          39.5,
          45.25,
          48.75,
          54,
          61.5,
          64.5,
          72,
          87.5,
          88.5
         ]
        },
        {
         "mode": "lines+markers",
         "name": "Position 3",
         "type": "scatter",
         "x": [
          0,
          1,
          2,
          3,
          4,
          5,
          6,
          7,
          8,
          9,
          10,
          11,
          12,
          13,
          14,
          15,
          16,
          17,
          18,
          19,
          20,
          21,
          22,
          23,
          24,
          25
         ],
         "y": [
          10.625,
          11.25,
          11.5625,
          15.1875,
          19.375,
          24.875,
          26.625,
          25.125,
          24.875,
          27,
          28.375,
          29.75,
          30.625,
          34.5,
          40,
          41.5,
          47.5,
          53.25,
          58.5,
          63.5,
          67,
          79,
          89.5,
          98.5,
          115,
          120
         ]
        },
        {
         "mode": "lines+markers",
         "name": "Position -2",
         "type": "scatter",
         "x": [
          0,
          1,
          2,
          3,
          4,
          5,
          6,
          7,
          8,
          9,
          10,
          11,
          12,
          13,
          14,
          15,
          16,
          17,
          18,
          19,
          20,
          21,
          22,
          23,
          24,
          25
         ],
         "y": [
          6.8125,
          9.0625,
          9.875,
          14,
          13.6875,
          21.25,
          23.5,
          24.5,
          25,
          26.625,
          29.25,
          31.875,
          31.25,
          35.5,
          35.5,
          38.5,
          41.5,
          45,
          46.5,
          51.25,
          54.5,
          63.75,
          70,
          75.5,
          95,
          93.5
         ]
        }
       ],
       "layout": {
        "legend": {
         "title": {
          "text": "Position"
         }
        },
        "template": {
         "data": {
          "bar": [
           {
            "error_x": {
             "color": "#2a3f5f"
            },
            "error_y": {
             "color": "#2a3f5f"
            },
            "marker": {
             "line": {
              "color": "white",
              "width": 0.5
             },
             "pattern": {
              "fillmode": "overlay",
              "size": 10,
              "solidity": 0.2
             }
            },
            "type": "bar"
           }
          ],
          "barpolar": [
           {
            "marker": {
             "line": {
              "color": "white",
              "width": 0.5
             },
             "pattern": {
              "fillmode": "overlay",
              "size": 10,
              "solidity": 0.2
             }
            },
            "type": "barpolar"
           }
          ],
          "carpet": [
           {
            "aaxis": {
             "endlinecolor": "#2a3f5f",
             "gridcolor": "#C8D4E3",
             "linecolor": "#C8D4E3",
             "minorgridcolor": "#C8D4E3",
             "startlinecolor": "#2a3f5f"
            },
            "baxis": {
             "endlinecolor": "#2a3f5f",
             "gridcolor": "#C8D4E3",
             "linecolor": "#C8D4E3",
             "minorgridcolor": "#C8D4E3",
             "startlinecolor": "#2a3f5f"
            },
            "type": "carpet"
           }
          ],
          "choropleth": [
           {
            "colorbar": {
             "outlinewidth": 0,
             "ticks": ""
            },
            "type": "choropleth"
           }
          ],
          "contour": [
           {
            "colorbar": {
             "outlinewidth": 0,
             "ticks": ""
            },
            "colorscale": [
             [
              0,
              "#0d0887"
             ],
             [
              0.1111111111111111,
              "#46039f"
             ],
             [
              0.2222222222222222,
              "#7201a8"
             ],
             [
              0.3333333333333333,
              "#9c179e"
             ],
             [
              0.4444444444444444,
              "#bd3786"
             ],
             [
              0.5555555555555556,
              "#d8576b"
             ],
             [
              0.6666666666666666,
              "#ed7953"
             ],
             [
              0.7777777777777778,
              "#fb9f3a"
             ],
             [
              0.8888888888888888,
              "#fdca26"
             ],
             [
              1,
              "#f0f921"
             ]
            ],
            "type": "contour"
           }
          ],
          "contourcarpet": [
           {
            "colorbar": {
             "outlinewidth": 0,
             "ticks": ""
            },
            "type": "contourcarpet"
           }
          ],
          "heatmap": [
           {
            "colorbar": {
             "outlinewidth": 0,
             "ticks": ""
            },
            "colorscale": [
             [
              0,
              "#0d0887"
             ],
             [
              0.1111111111111111,
              "#46039f"
             ],
             [
              0.2222222222222222,
              "#7201a8"
             ],
             [
              0.3333333333333333,
              "#9c179e"
             ],
             [
              0.4444444444444444,
              "#bd3786"
             ],
             [
              0.5555555555555556,
              "#d8576b"
             ],
             [
              0.6666666666666666,
              "#ed7953"
             ],
             [
              0.7777777777777778,
              "#fb9f3a"
             ],
             [
              0.8888888888888888,
              "#fdca26"
             ],
             [
              1,
              "#f0f921"
             ]
            ],
            "type": "heatmap"
           }
          ],
          "heatmapgl": [
           {
            "colorbar": {
             "outlinewidth": 0,
             "ticks": ""
            },
            "colorscale": [
             [
              0,
              "#0d0887"
             ],
             [
              0.1111111111111111,
              "#46039f"
             ],
             [
              0.2222222222222222,
              "#7201a8"
             ],
             [
              0.3333333333333333,
              "#9c179e"
             ],
             [
              0.4444444444444444,
              "#bd3786"
             ],
             [
              0.5555555555555556,
              "#d8576b"
             ],
             [
              0.6666666666666666,
              "#ed7953"
             ],
             [
              0.7777777777777778,
              "#fb9f3a"
             ],
             [
              0.8888888888888888,
              "#fdca26"
             ],
             [
              1,
              "#f0f921"
             ]
            ],
            "type": "heatmapgl"
           }
          ],
          "histogram": [
           {
            "marker": {
             "pattern": {
              "fillmode": "overlay",
              "size": 10,
              "solidity": 0.2
             }
            },
            "type": "histogram"
           }
          ],
          "histogram2d": [
           {
            "colorbar": {
             "outlinewidth": 0,
             "ticks": ""
            },
            "colorscale": [
             [
              0,
              "#0d0887"
             ],
             [
              0.1111111111111111,
              "#46039f"
             ],
             [
              0.2222222222222222,
              "#7201a8"
             ],
             [
              0.3333333333333333,
              "#9c179e"
             ],
             [
              0.4444444444444444,
              "#bd3786"
             ],
             [
              0.5555555555555556,
              "#d8576b"
             ],
             [
              0.6666666666666666,
              "#ed7953"
             ],
             [
              0.7777777777777778,
              "#fb9f3a"
             ],
             [
              0.8888888888888888,
              "#fdca26"
             ],
             [
              1,
              "#f0f921"
             ]
            ],
            "type": "histogram2d"
           }
          ],
          "histogram2dcontour": [
           {
            "colorbar": {
             "outlinewidth": 0,
             "ticks": ""
            },
            "colorscale": [
             [
              0,
              "#0d0887"
             ],
             [
              0.1111111111111111,
              "#46039f"
             ],
             [
              0.2222222222222222,
              "#7201a8"
             ],
             [
              0.3333333333333333,
              "#9c179e"
             ],
             [
              0.4444444444444444,
              "#bd3786"
             ],
             [
              0.5555555555555556,
              "#d8576b"
             ],
             [
              0.6666666666666666,
              "#ed7953"
             ],
             [
              0.7777777777777778,
              "#fb9f3a"
             ],
             [
              0.8888888888888888,
              "#fdca26"
             ],
             [
              1,
              "#f0f921"
             ]
            ],
            "type": "histogram2dcontour"
           }
          ],
          "mesh3d": [
           {
            "colorbar": {
             "outlinewidth": 0,
             "ticks": ""
            },
            "type": "mesh3d"
           }
          ],
          "parcoords": [
           {
            "line": {
             "colorbar": {
              "outlinewidth": 0,
              "ticks": ""
             }
            },
            "type": "parcoords"
           }
          ],
          "pie": [
           {
            "automargin": true,
            "type": "pie"
           }
          ],
          "scatter": [
           {
            "fillpattern": {
             "fillmode": "overlay",
             "size": 10,
             "solidity": 0.2
            },
            "type": "scatter"
           }
          ],
          "scatter3d": [
           {
            "line": {
             "colorbar": {
              "outlinewidth": 0,
              "ticks": ""
             }
            },
            "marker": {
             "colorbar": {
              "outlinewidth": 0,
              "ticks": ""
             }
            },
            "type": "scatter3d"
           }
          ],
          "scattercarpet": [
           {
            "marker": {
             "colorbar": {
              "outlinewidth": 0,
              "ticks": ""
             }
            },
            "type": "scattercarpet"
           }
          ],
          "scattergeo": [
           {
            "marker": {
             "colorbar": {
              "outlinewidth": 0,
              "ticks": ""
             }
            },
            "type": "scattergeo"
           }
          ],
          "scattergl": [
           {
            "marker": {
             "colorbar": {
              "outlinewidth": 0,
              "ticks": ""
             }
            },
            "type": "scattergl"
           }
          ],
          "scattermapbox": [
           {
            "marker": {
             "colorbar": {
              "outlinewidth": 0,
              "ticks": ""
             }
            },
            "type": "scattermapbox"
           }
          ],
          "scatterpolar": [
           {
            "marker": {
             "colorbar": {
              "outlinewidth": 0,
              "ticks": ""
             }
            },
            "type": "scatterpolar"
           }
          ],
          "scatterpolargl": [
           {
            "marker": {
             "colorbar": {
              "outlinewidth": 0,
              "ticks": ""
             }
            },
            "type": "scatterpolargl"
           }
          ],
          "scatterternary": [
           {
            "marker": {
             "colorbar": {
              "outlinewidth": 0,
              "ticks": ""
             }
            },
            "type": "scatterternary"
           }
          ],
          "surface": [
           {
            "colorbar": {
             "outlinewidth": 0,
             "ticks": ""
            },
            "colorscale": [
             [
              0,
              "#0d0887"
             ],
             [
              0.1111111111111111,
              "#46039f"
             ],
             [
              0.2222222222222222,
              "#7201a8"
             ],
             [
              0.3333333333333333,
              "#9c179e"
             ],
             [
              0.4444444444444444,
              "#bd3786"
             ],
             [
              0.5555555555555556,
              "#d8576b"
             ],
             [
              0.6666666666666666,
              "#ed7953"
             ],
             [
              0.7777777777777778,
              "#fb9f3a"
             ],
             [
              0.8888888888888888,
              "#fdca26"
             ],
             [
              1,
              "#f0f921"
             ]
            ],
            "type": "surface"
           }
          ],
          "table": [
           {
            "cells": {
             "fill": {
              "color": "#EBF0F8"
             },
             "line": {
              "color": "white"
             }
            },
            "header": {
             "fill": {
              "color": "#C8D4E3"
             },
             "line": {
              "color": "white"
             }
            },
            "type": "table"
           }
          ]
         },
         "layout": {
          "annotationdefaults": {
           "arrowcolor": "#2a3f5f",
           "arrowhead": 0,
           "arrowwidth": 1
          },
          "autotypenumbers": "strict",
          "coloraxis": {
           "colorbar": {
            "outlinewidth": 0,
            "ticks": ""
           }
          },
          "colorscale": {
           "diverging": [
            [
             0,
             "#8e0152"
            ],
            [
             0.1,
             "#c51b7d"
            ],
            [
             0.2,
             "#de77ae"
            ],
            [
             0.3,
             "#f1b6da"
            ],
            [
             0.4,
             "#fde0ef"
            ],
            [
             0.5,
             "#f7f7f7"
            ],
            [
             0.6,
             "#e6f5d0"
            ],
            [
             0.7,
             "#b8e186"
            ],
            [
             0.8,
             "#7fbc41"
            ],
            [
             0.9,
             "#4d9221"
            ],
            [
             1,
             "#276419"
            ]
           ],
           "sequential": [
            [
             0,
             "#0d0887"
            ],
            [
             0.1111111111111111,
             "#46039f"
            ],
            [
             0.2222222222222222,
             "#7201a8"
            ],
            [
             0.3333333333333333,
             "#9c179e"
            ],
            [
             0.4444444444444444,
             "#bd3786"
            ],
            [
             0.5555555555555556,
             "#d8576b"
            ],
            [
             0.6666666666666666,
             "#ed7953"
            ],
            [
             0.7777777777777778,
             "#fb9f3a"
            ],
            [
             0.8888888888888888,
             "#fdca26"
            ],
            [
             1,
             "#f0f921"
            ]
           ],
           "sequentialminus": [
            [
             0,
             "#0d0887"
            ],
            [
             0.1111111111111111,
             "#46039f"
            ],
            [
             0.2222222222222222,
             "#7201a8"
            ],
            [
             0.3333333333333333,
             "#9c179e"
            ],
            [
             0.4444444444444444,
             "#bd3786"
            ],
            [
             0.5555555555555556,
             "#d8576b"
            ],
            [
             0.6666666666666666,
             "#ed7953"
            ],
            [
             0.7777777777777778,
             "#fb9f3a"
            ],
            [
             0.8888888888888888,
             "#fdca26"
            ],
            [
             1,
             "#f0f921"
            ]
           ]
          },
          "colorway": [
           "#636efa",
           "#EF553B",
           "#00cc96",
           "#ab63fa",
           "#FFA15A",
           "#19d3f3",
           "#FF6692",
           "#B6E880",
           "#FF97FF",
           "#FECB52"
          ],
          "font": {
           "color": "#2a3f5f"
          },
          "geo": {
           "bgcolor": "white",
           "lakecolor": "white",
           "landcolor": "white",
           "showlakes": true,
           "showland": true,
           "subunitcolor": "#C8D4E3"
          },
          "hoverlabel": {
           "align": "left"
          },
          "hovermode": "closest",
          "mapbox": {
           "style": "light"
          },
          "paper_bgcolor": "white",
          "plot_bgcolor": "white",
          "polar": {
           "angularaxis": {
            "gridcolor": "#EBF0F8",
            "linecolor": "#EBF0F8",
            "ticks": ""
           },
           "bgcolor": "white",
           "radialaxis": {
            "gridcolor": "#EBF0F8",
            "linecolor": "#EBF0F8",
            "ticks": ""
           }
          },
          "scene": {
           "xaxis": {
            "backgroundcolor": "white",
            "gridcolor": "#DFE8F3",
            "gridwidth": 2,
            "linecolor": "#EBF0F8",
            "showbackground": true,
            "ticks": "",
            "zerolinecolor": "#EBF0F8"
           },
           "yaxis": {
            "backgroundcolor": "white",
            "gridcolor": "#DFE8F3",
            "gridwidth": 2,
            "linecolor": "#EBF0F8",
            "showbackground": true,
            "ticks": "",
            "zerolinecolor": "#EBF0F8"
           },
           "zaxis": {
            "backgroundcolor": "white",
            "gridcolor": "#DFE8F3",
            "gridwidth": 2,
            "linecolor": "#EBF0F8",
            "showbackground": true,
            "ticks": "",
            "zerolinecolor": "#EBF0F8"
           }
          },
          "shapedefaults": {
           "line": {
            "color": "#2a3f5f"
           }
          },
          "ternary": {
           "aaxis": {
            "gridcolor": "#DFE8F3",
            "linecolor": "#A2B1C6",
            "ticks": ""
           },
           "baxis": {
            "gridcolor": "#DFE8F3",
            "linecolor": "#A2B1C6",
            "ticks": ""
           },
           "bgcolor": "white",
           "caxis": {
            "gridcolor": "#DFE8F3",
            "linecolor": "#A2B1C6",
            "ticks": ""
           }
          },
          "title": {
           "x": 0.05
          },
          "xaxis": {
           "automargin": true,
           "gridcolor": "#EBF0F8",
           "linecolor": "#EBF0F8",
           "ticks": "",
           "title": {
            "standoff": 15
           },
           "zerolinecolor": "#EBF0F8",
           "zerolinewidth": 2
          },
          "yaxis": {
           "automargin": true,
           "gridcolor": "#EBF0F8",
           "linecolor": "#EBF0F8",
           "ticks": "",
           "title": {
            "standoff": 15
           },
           "zerolinecolor": "#EBF0F8",
           "zerolinewidth": 2
          }
         }
        },
        "title": {
         "text": "Norms of mean SAE errors"
        },
        "xaxis": {
         "tickmode": "linear",
         "title": {
          "text": "Layer"
         }
        },
        "yaxis": {
         "title": {
          "text": "Norm Value"
         }
        }
       }
      },
      "text/html": [
       "<div>                            <div id=\"d1e6d056-1b0d-409a-9c18-5759190efb60\" class=\"plotly-graph-div\" style=\"height:525px; width:100%;\"></div>            <script type=\"text/javascript\">                require([\"plotly\"], function(Plotly) {                    window.PLOTLYENV=window.PLOTLYENV || {};                                    if (document.getElementById(\"d1e6d056-1b0d-409a-9c18-5759190efb60\")) {                    Plotly.newPlot(                        \"d1e6d056-1b0d-409a-9c18-5759190efb60\",                        [{\"mode\":\"lines+markers\",\"name\":\"Position 2\",\"x\":[0,1,2,3,4,5,6,7,8,9,10,11,12,13,14,15,16,17,18,19,20,21,22,23,24,25],\"y\":[9.5625,9.625,9.75,11.6875,11.4375,15.5,16.125,17.375,16.5,18.5,20.5,22.25,21.375,26.0,29.25,32.0,38.0,39.5,45.25,48.75,54.0,61.5,64.5,72.0,87.5,88.5],\"type\":\"scatter\"},{\"mode\":\"lines+markers\",\"name\":\"Position 3\",\"x\":[0,1,2,3,4,5,6,7,8,9,10,11,12,13,14,15,16,17,18,19,20,21,22,23,24,25],\"y\":[10.625,11.25,11.5625,15.1875,19.375,24.875,26.625,25.125,24.875,27.0,28.375,29.75,30.625,34.5,40.0,41.5,47.5,53.25,58.5,63.5,67.0,79.0,89.5,98.5,115.0,120.0],\"type\":\"scatter\"},{\"mode\":\"lines+markers\",\"name\":\"Position -2\",\"x\":[0,1,2,3,4,5,6,7,8,9,10,11,12,13,14,15,16,17,18,19,20,21,22,23,24,25],\"y\":[6.8125,9.0625,9.875,14.0,13.6875,21.25,23.5,24.5,25.0,26.625,29.25,31.875,31.25,35.5,35.5,38.5,41.5,45.0,46.5,51.25,54.5,63.75,70.0,75.5,95.0,93.5],\"type\":\"scatter\"}],                        {\"template\":{\"data\":{\"barpolar\":[{\"marker\":{\"line\":{\"color\":\"white\",\"width\":0.5},\"pattern\":{\"fillmode\":\"overlay\",\"size\":10,\"solidity\":0.2}},\"type\":\"barpolar\"}],\"bar\":[{\"error_x\":{\"color\":\"#2a3f5f\"},\"error_y\":{\"color\":\"#2a3f5f\"},\"marker\":{\"line\":{\"color\":\"white\",\"width\":0.5},\"pattern\":{\"fillmode\":\"overlay\",\"size\":10,\"solidity\":0.2}},\"type\":\"bar\"}],\"carpet\":[{\"aaxis\":{\"endlinecolor\":\"#2a3f5f\",\"gridcolor\":\"#C8D4E3\",\"linecolor\":\"#C8D4E3\",\"minorgridcolor\":\"#C8D4E3\",\"startlinecolor\":\"#2a3f5f\"},\"baxis\":{\"endlinecolor\":\"#2a3f5f\",\"gridcolor\":\"#C8D4E3\",\"linecolor\":\"#C8D4E3\",\"minorgridcolor\":\"#C8D4E3\",\"startlinecolor\":\"#2a3f5f\"},\"type\":\"carpet\"}],\"choropleth\":[{\"colorbar\":{\"outlinewidth\":0,\"ticks\":\"\"},\"type\":\"choropleth\"}],\"contourcarpet\":[{\"colorbar\":{\"outlinewidth\":0,\"ticks\":\"\"},\"type\":\"contourcarpet\"}],\"contour\":[{\"colorbar\":{\"outlinewidth\":0,\"ticks\":\"\"},\"colorscale\":[[0.0,\"#0d0887\"],[0.1111111111111111,\"#46039f\"],[0.2222222222222222,\"#7201a8\"],[0.3333333333333333,\"#9c179e\"],[0.4444444444444444,\"#bd3786\"],[0.5555555555555556,\"#d8576b\"],[0.6666666666666666,\"#ed7953\"],[0.7777777777777778,\"#fb9f3a\"],[0.8888888888888888,\"#fdca26\"],[1.0,\"#f0f921\"]],\"type\":\"contour\"}],\"heatmapgl\":[{\"colorbar\":{\"outlinewidth\":0,\"ticks\":\"\"},\"colorscale\":[[0.0,\"#0d0887\"],[0.1111111111111111,\"#46039f\"],[0.2222222222222222,\"#7201a8\"],[0.3333333333333333,\"#9c179e\"],[0.4444444444444444,\"#bd3786\"],[0.5555555555555556,\"#d8576b\"],[0.6666666666666666,\"#ed7953\"],[0.7777777777777778,\"#fb9f3a\"],[0.8888888888888888,\"#fdca26\"],[1.0,\"#f0f921\"]],\"type\":\"heatmapgl\"}],\"heatmap\":[{\"colorbar\":{\"outlinewidth\":0,\"ticks\":\"\"},\"colorscale\":[[0.0,\"#0d0887\"],[0.1111111111111111,\"#46039f\"],[0.2222222222222222,\"#7201a8\"],[0.3333333333333333,\"#9c179e\"],[0.4444444444444444,\"#bd3786\"],[0.5555555555555556,\"#d8576b\"],[0.6666666666666666,\"#ed7953\"],[0.7777777777777778,\"#fb9f3a\"],[0.8888888888888888,\"#fdca26\"],[1.0,\"#f0f921\"]],\"type\":\"heatmap\"}],\"histogram2dcontour\":[{\"colorbar\":{\"outlinewidth\":0,\"ticks\":\"\"},\"colorscale\":[[0.0,\"#0d0887\"],[0.1111111111111111,\"#46039f\"],[0.2222222222222222,\"#7201a8\"],[0.3333333333333333,\"#9c179e\"],[0.4444444444444444,\"#bd3786\"],[0.5555555555555556,\"#d8576b\"],[0.6666666666666666,\"#ed7953\"],[0.7777777777777778,\"#fb9f3a\"],[0.8888888888888888,\"#fdca26\"],[1.0,\"#f0f921\"]],\"type\":\"histogram2dcontour\"}],\"histogram2d\":[{\"colorbar\":{\"outlinewidth\":0,\"ticks\":\"\"},\"colorscale\":[[0.0,\"#0d0887\"],[0.1111111111111111,\"#46039f\"],[0.2222222222222222,\"#7201a8\"],[0.3333333333333333,\"#9c179e\"],[0.4444444444444444,\"#bd3786\"],[0.5555555555555556,\"#d8576b\"],[0.6666666666666666,\"#ed7953\"],[0.7777777777777778,\"#fb9f3a\"],[0.8888888888888888,\"#fdca26\"],[1.0,\"#f0f921\"]],\"type\":\"histogram2d\"}],\"histogram\":[{\"marker\":{\"pattern\":{\"fillmode\":\"overlay\",\"size\":10,\"solidity\":0.2}},\"type\":\"histogram\"}],\"mesh3d\":[{\"colorbar\":{\"outlinewidth\":0,\"ticks\":\"\"},\"type\":\"mesh3d\"}],\"parcoords\":[{\"line\":{\"colorbar\":{\"outlinewidth\":0,\"ticks\":\"\"}},\"type\":\"parcoords\"}],\"pie\":[{\"automargin\":true,\"type\":\"pie\"}],\"scatter3d\":[{\"line\":{\"colorbar\":{\"outlinewidth\":0,\"ticks\":\"\"}},\"marker\":{\"colorbar\":{\"outlinewidth\":0,\"ticks\":\"\"}},\"type\":\"scatter3d\"}],\"scattercarpet\":[{\"marker\":{\"colorbar\":{\"outlinewidth\":0,\"ticks\":\"\"}},\"type\":\"scattercarpet\"}],\"scattergeo\":[{\"marker\":{\"colorbar\":{\"outlinewidth\":0,\"ticks\":\"\"}},\"type\":\"scattergeo\"}],\"scattergl\":[{\"marker\":{\"colorbar\":{\"outlinewidth\":0,\"ticks\":\"\"}},\"type\":\"scattergl\"}],\"scattermapbox\":[{\"marker\":{\"colorbar\":{\"outlinewidth\":0,\"ticks\":\"\"}},\"type\":\"scattermapbox\"}],\"scatterpolargl\":[{\"marker\":{\"colorbar\":{\"outlinewidth\":0,\"ticks\":\"\"}},\"type\":\"scatterpolargl\"}],\"scatterpolar\":[{\"marker\":{\"colorbar\":{\"outlinewidth\":0,\"ticks\":\"\"}},\"type\":\"scatterpolar\"}],\"scatter\":[{\"fillpattern\":{\"fillmode\":\"overlay\",\"size\":10,\"solidity\":0.2},\"type\":\"scatter\"}],\"scatterternary\":[{\"marker\":{\"colorbar\":{\"outlinewidth\":0,\"ticks\":\"\"}},\"type\":\"scatterternary\"}],\"surface\":[{\"colorbar\":{\"outlinewidth\":0,\"ticks\":\"\"},\"colorscale\":[[0.0,\"#0d0887\"],[0.1111111111111111,\"#46039f\"],[0.2222222222222222,\"#7201a8\"],[0.3333333333333333,\"#9c179e\"],[0.4444444444444444,\"#bd3786\"],[0.5555555555555556,\"#d8576b\"],[0.6666666666666666,\"#ed7953\"],[0.7777777777777778,\"#fb9f3a\"],[0.8888888888888888,\"#fdca26\"],[1.0,\"#f0f921\"]],\"type\":\"surface\"}],\"table\":[{\"cells\":{\"fill\":{\"color\":\"#EBF0F8\"},\"line\":{\"color\":\"white\"}},\"header\":{\"fill\":{\"color\":\"#C8D4E3\"},\"line\":{\"color\":\"white\"}},\"type\":\"table\"}]},\"layout\":{\"annotationdefaults\":{\"arrowcolor\":\"#2a3f5f\",\"arrowhead\":0,\"arrowwidth\":1},\"autotypenumbers\":\"strict\",\"coloraxis\":{\"colorbar\":{\"outlinewidth\":0,\"ticks\":\"\"}},\"colorscale\":{\"diverging\":[[0,\"#8e0152\"],[0.1,\"#c51b7d\"],[0.2,\"#de77ae\"],[0.3,\"#f1b6da\"],[0.4,\"#fde0ef\"],[0.5,\"#f7f7f7\"],[0.6,\"#e6f5d0\"],[0.7,\"#b8e186\"],[0.8,\"#7fbc41\"],[0.9,\"#4d9221\"],[1,\"#276419\"]],\"sequential\":[[0.0,\"#0d0887\"],[0.1111111111111111,\"#46039f\"],[0.2222222222222222,\"#7201a8\"],[0.3333333333333333,\"#9c179e\"],[0.4444444444444444,\"#bd3786\"],[0.5555555555555556,\"#d8576b\"],[0.6666666666666666,\"#ed7953\"],[0.7777777777777778,\"#fb9f3a\"],[0.8888888888888888,\"#fdca26\"],[1.0,\"#f0f921\"]],\"sequentialminus\":[[0.0,\"#0d0887\"],[0.1111111111111111,\"#46039f\"],[0.2222222222222222,\"#7201a8\"],[0.3333333333333333,\"#9c179e\"],[0.4444444444444444,\"#bd3786\"],[0.5555555555555556,\"#d8576b\"],[0.6666666666666666,\"#ed7953\"],[0.7777777777777778,\"#fb9f3a\"],[0.8888888888888888,\"#fdca26\"],[1.0,\"#f0f921\"]]},\"colorway\":[\"#636efa\",\"#EF553B\",\"#00cc96\",\"#ab63fa\",\"#FFA15A\",\"#19d3f3\",\"#FF6692\",\"#B6E880\",\"#FF97FF\",\"#FECB52\"],\"font\":{\"color\":\"#2a3f5f\"},\"geo\":{\"bgcolor\":\"white\",\"lakecolor\":\"white\",\"landcolor\":\"white\",\"showlakes\":true,\"showland\":true,\"subunitcolor\":\"#C8D4E3\"},\"hoverlabel\":{\"align\":\"left\"},\"hovermode\":\"closest\",\"mapbox\":{\"style\":\"light\"},\"paper_bgcolor\":\"white\",\"plot_bgcolor\":\"white\",\"polar\":{\"angularaxis\":{\"gridcolor\":\"#EBF0F8\",\"linecolor\":\"#EBF0F8\",\"ticks\":\"\"},\"bgcolor\":\"white\",\"radialaxis\":{\"gridcolor\":\"#EBF0F8\",\"linecolor\":\"#EBF0F8\",\"ticks\":\"\"}},\"scene\":{\"xaxis\":{\"backgroundcolor\":\"white\",\"gridcolor\":\"#DFE8F3\",\"gridwidth\":2,\"linecolor\":\"#EBF0F8\",\"showbackground\":true,\"ticks\":\"\",\"zerolinecolor\":\"#EBF0F8\"},\"yaxis\":{\"backgroundcolor\":\"white\",\"gridcolor\":\"#DFE8F3\",\"gridwidth\":2,\"linecolor\":\"#EBF0F8\",\"showbackground\":true,\"ticks\":\"\",\"zerolinecolor\":\"#EBF0F8\"},\"zaxis\":{\"backgroundcolor\":\"white\",\"gridcolor\":\"#DFE8F3\",\"gridwidth\":2,\"linecolor\":\"#EBF0F8\",\"showbackground\":true,\"ticks\":\"\",\"zerolinecolor\":\"#EBF0F8\"}},\"shapedefaults\":{\"line\":{\"color\":\"#2a3f5f\"}},\"ternary\":{\"aaxis\":{\"gridcolor\":\"#DFE8F3\",\"linecolor\":\"#A2B1C6\",\"ticks\":\"\"},\"baxis\":{\"gridcolor\":\"#DFE8F3\",\"linecolor\":\"#A2B1C6\",\"ticks\":\"\"},\"bgcolor\":\"white\",\"caxis\":{\"gridcolor\":\"#DFE8F3\",\"linecolor\":\"#A2B1C6\",\"ticks\":\"\"}},\"title\":{\"x\":0.05},\"xaxis\":{\"automargin\":true,\"gridcolor\":\"#EBF0F8\",\"linecolor\":\"#EBF0F8\",\"ticks\":\"\",\"title\":{\"standoff\":15},\"zerolinecolor\":\"#EBF0F8\",\"zerolinewidth\":2},\"yaxis\":{\"automargin\":true,\"gridcolor\":\"#EBF0F8\",\"linecolor\":\"#EBF0F8\",\"ticks\":\"\",\"title\":{\"standoff\":15},\"zerolinecolor\":\"#EBF0F8\",\"zerolinewidth\":2}}},\"xaxis\":{\"title\":{\"text\":\"Layer\"},\"tickmode\":\"linear\"},\"title\":{\"text\":\"Norms of mean SAE errors\"},\"yaxis\":{\"title\":{\"text\":\"Norm Value\"}},\"legend\":{\"title\":{\"text\":\"Position\"}}},                        {\"responsive\": true}                    ).then(function(){\n",
       "                            \n",
       "var gd = document.getElementById('d1e6d056-1b0d-409a-9c18-5759190efb60');\n",
       "var x = new MutationObserver(function (mutations, observer) {{\n",
       "        var display = window.getComputedStyle(gd).display;\n",
       "        if (!display || display === 'none') {{\n",
       "            console.log([gd, 'removed!']);\n",
       "            Plotly.purge(gd);\n",
       "            observer.disconnect();\n",
       "        }}\n",
       "}});\n",
       "\n",
       "// Listen for the removal of the full notebook cells\n",
       "var notebookContainer = gd.closest('#notebook-container');\n",
       "if (notebookContainer) {{\n",
       "    x.observe(notebookContainer, {childList: true});\n",
       "}}\n",
       "\n",
       "// Listen for the clearing of the current output cell\n",
       "var outputEl = gd.closest('.output');\n",
       "if (outputEl) {{\n",
       "    x.observe(outputEl, {childList: true});\n",
       "}}\n",
       "\n",
       "                        })                };                });            </script>        </div>"
      ]
     },
     "metadata": {},
     "output_type": "display_data"
    }
   ],
   "source": [
    "# Plot multiple positions\n",
    "fig = plot_mean_norms(resid_error_mean_norms, positions_to_plot=[2, 3, -2])\n",
    "fig.show()"
   ]
  },
  {
   "cell_type": "markdown",
   "metadata": {},
   "source": [
    "So the result is overall expected, but one interesting observation is that the norm of the mean errors seems to be the highest for error nodes at position #3 ('that' token in SVA dataset) where we don't see important error nodes at all in the late layers.\n",
    "\n",
    "Also note that \"norm of mean errors\" (plotted above) is not the same as \"mean of error norms\". Intuitively the \"norm of mean errors\" should be dominated by the \"mean of error norms\" because of the fact that \"mean error\" is a center of mass of a bunch of vectors. So e.g. when you have a lot of high-norm vectors which are kind of all in different directions, their center of mass would be somewhere in between around 0, making its norm much smaller than norms of individual vectors. "
   ]
  },
  {
   "cell_type": "markdown",
   "metadata": {},
   "source": [
    "For curious readers, here's the (Claude-generated but looking correct) proof"
   ]
  },
  {
   "cell_type": "markdown",
   "metadata": {},
   "source": [
    "$$\n",
    "\\text{For any set of vectors } \\{\\vec{e}_i\\}_{i=1}^n \\text{ in a Euclidean space, the following inequality holds:}\n",
    "$$\n",
    "\n",
    "$$\n",
    "\\left\\|\\frac{1}{n}\\sum_{i=1}^n \\vec{e}_i\\right\\| \\leq \\frac{1}{n}\\sum_{i=1}^n \\|\\vec{e}_i\\|\n",
    "$$\n",
    "\n",
    "$$\n",
    "\\text{Let } \\vec{\\mu} = \\frac{1}{n}\\sum_{i=1}^n \\vec{e}_i \\text{ be the mean of the error vectors.}\n",
    "$$\n",
    "\n",
    "$$\n",
    "\\text{The Euclidean norm } \\|\\cdot\\| \\text{ is a convex function due to the triangle inequality and the properties}\n",
    "$$\n",
    "$$\n",
    "\\text{of square root. By Jensen's inequality, for a convex function } f \\text{ and a random variable } X\\text{:}\n",
    "$$\n",
    "\n",
    "$$\n",
    "f(\\mathbb{E}[X]) \\leq \\mathbb{E}[f(X)]\n",
    "$$\n",
    "\n",
    "$$\n",
    "\\text{Applying this to our vectors with } f = \\|\\cdot\\| \\text{ and treating the vectors as random variables with}\n",
    "$$\n",
    "$$\n",
    "\\text{uniform probability } \\frac{1}{n}\\text{:}\n",
    "$$\n",
    "\n",
    "$$\n",
    "\\|\\mathbb{E}[\\vec{e}]\\| \\leq \\mathbb{E}[\\|\\vec{e}\\|]\n",
    "$$\n",
    "\n",
    "$$\n",
    "\\text{Which gives us:}\n",
    "$$\n",
    "\n",
    "$$\n",
    "\\left\\|\\frac{1}{n}\\sum_{i=1}^n \\vec{e}_i\\right\\| \\leq \\frac{1}{n}\\sum_{i=1}^n \\|\\vec{e}_i\\|\n",
    "$$\n",
    "\n",
    "$$\n",
    "\\text{Equality Condition: The equality holds if and only if all vectors } \\vec{e}_i \\text{ are collinear with}\n",
    "$$\n",
    "$$\n",
    "\\text{the same orientation, i.e., } \\vec{e}_i = c_i\\vec{v} \\text{ for some unit vector } \\vec{v} \\text{ and } c_i \\geq 0 \\text{ (or } c_i \\leq 0 \\text{ for all } i\\text{).}\n",
    "$$\n",
    "\n",
    "$$\n",
    "\\text{For example, if } \\vec{e}_i = b_i \\cdot \\vec{\\alpha} \\text{ where } \\|\\vec{\\alpha}\\| = 1 \\text{ and all } b_i \\text{ have the same sign:}\n",
    "$$\n",
    "\n",
    "$$\n",
    "\\begin{align}\n",
    "\\|\\mathbb{E}[\\vec{e}]\\| &= \\|\\mathbb{E}[b_i \\cdot \\vec{\\alpha}]\\| = \\|\\mathbb{E}[b_i] \\cdot \\vec{\\alpha}\\| = |\\mathbb{E}[b_i]| \\cdot \\|\\vec{\\alpha}\\| = \\mathbb{E}[b_i] \\\\\n",
    "\\mathbb{E}[\\|\\vec{e}\\|] &= \\mathbb{E}[\\|b_i \\cdot \\vec{\\alpha}\\|] = \\mathbb{E}[|b_i| \\cdot \\|\\vec{\\alpha}\\|] = \\mathbb{E}[|b_i|] = \\mathbb{E}[b_i]\n",
    "\\end{align}\n",
    "$$\n",
    "\n",
    "$$\n",
    "\\text{Therefore, } \\|\\mathbb{E}[\\vec{e}]\\| = \\mathbb{E}[\\|\\vec{e}\\|] \\text{ in this special case.}\n",
    "$$"
   ]
  },
  {
   "cell_type": "code",
   "execution_count": null,
   "metadata": {},
   "outputs": [],
   "source": []
  }
 ],
 "metadata": {
  "accelerator": "GPU",
  "colab": {
   "gpuType": "T4",
   "machine_shape": "hm",
   "provenance": []
  },
  "kernelspec": {
   "display_name": "taras_ami",
   "language": "python",
   "name": "python3"
  },
  "language_info": {
   "codemirror_mode": {
    "name": "ipython",
    "version": 3
   },
   "file_extension": ".py",
   "mimetype": "text/x-python",
   "name": "python",
   "nbconvert_exporter": "python",
   "pygments_lexer": "ipython3",
   "version": "3.10.16"
  },
  "widgets": {
   "application/vnd.jupyter.widget-state+json": {
    "05d2736b761f40239f148ba84de8c2cb": {
     "model_module": "@jupyter-widgets/base",
     "model_module_version": "1.2.0",
     "model_name": "LayoutModel",
     "state": {
      "_model_module": "@jupyter-widgets/base",
      "_model_module_version": "1.2.0",
      "_model_name": "LayoutModel",
      "_view_count": null,
      "_view_module": "@jupyter-widgets/base",
      "_view_module_version": "1.2.0",
      "_view_name": "LayoutView",
      "align_content": null,
      "align_items": null,
      "align_self": null,
      "border": null,
      "bottom": null,
      "display": null,
      "flex": null,
      "flex_flow": null,
      "grid_area": null,
      "grid_auto_columns": null,
      "grid_auto_flow": null,
      "grid_auto_rows": null,
      "grid_column": null,
      "grid_gap": null,
      "grid_row": null,
      "grid_template_areas": null,
      "grid_template_columns": null,
      "grid_template_rows": null,
      "height": null,
      "justify_content": null,
      "justify_items": null,
      "left": null,
      "margin": null,
      "max_height": null,
      "max_width": null,
      "min_height": null,
      "min_width": null,
      "object_fit": null,
      "object_position": null,
      "order": null,
      "overflow": null,
      "overflow_x": null,
      "overflow_y": null,
      "padding": null,
      "right": null,
      "top": null,
      "visibility": null,
      "width": null
     }
    },
    "0df93b18ecfd479aa59a2f6a1add89c0": {
     "model_module": "@jupyter-widgets/controls",
     "model_module_version": "1.5.0",
     "model_name": "ProgressStyleModel",
     "state": {
      "_model_module": "@jupyter-widgets/controls",
      "_model_module_version": "1.5.0",
      "_model_name": "ProgressStyleModel",
      "_view_count": null,
      "_view_module": "@jupyter-widgets/base",
      "_view_module_version": "1.2.0",
      "_view_name": "StyleView",
      "bar_color": null,
      "description_width": ""
     }
    },
    "19087122473c430aa3255af99f1c8b77": {
     "model_module": "@jupyter-widgets/controls",
     "model_module_version": "1.5.0",
     "model_name": "HTMLModel",
     "state": {
      "_dom_classes": [],
      "_model_module": "@jupyter-widgets/controls",
      "_model_module_version": "1.5.0",
      "_model_name": "HTMLModel",
      "_view_count": null,
      "_view_module": "@jupyter-widgets/controls",
      "_view_module_version": "1.5.0",
      "_view_name": "HTMLView",
      "description": "",
      "description_tooltip": null,
      "layout": "IPY_MODEL_fe32bf79d13147fdae30a0055305bc69",
      "placeholder": "​",
      "style": "IPY_MODEL_c51c032beebd42a8874fa08c7d087eb8",
      "value": " 396/396 [00:00&lt;00:00, 30.2kB/s]"
     }
    },
    "1e35e267085f40c7b06499edb36398e0": {
     "model_module": "@jupyter-widgets/controls",
     "model_module_version": "1.5.0",
     "model_name": "FloatProgressModel",
     "state": {
      "_dom_classes": [],
      "_model_module": "@jupyter-widgets/controls",
      "_model_module_version": "1.5.0",
      "_model_name": "FloatProgressModel",
      "_view_count": null,
      "_view_module": "@jupyter-widgets/controls",
      "_view_module_version": "1.5.0",
      "_view_name": "ProgressView",
      "bar_style": "success",
      "description": "",
      "description_tooltip": null,
      "layout": "IPY_MODEL_a4d27ae13a4442adabc1bdb42faa8dc8",
      "max": 396,
      "min": 0,
      "orientation": "horizontal",
      "style": "IPY_MODEL_7e615c58c65f48e4adf9ab6a4b320bbb",
      "value": 396
     }
    },
    "26f50b307e0341738600f67a3839c44c": {
     "model_module": "@jupyter-widgets/controls",
     "model_module_version": "1.5.0",
     "model_name": "HTMLModel",
     "state": {
      "_dom_classes": [],
      "_model_module": "@jupyter-widgets/controls",
      "_model_module_version": "1.5.0",
      "_model_name": "HTMLModel",
      "_view_count": null,
      "_view_module": "@jupyter-widgets/controls",
      "_view_module_version": "1.5.0",
      "_view_name": "HTMLView",
      "description": "",
      "description_tooltip": null,
      "layout": "IPY_MODEL_39e26871b8f9439aa9f3ca4b10df7d32",
      "placeholder": "​",
      "style": "IPY_MODEL_32749fc365974bc0a975eae93680b3c3",
      "value": "config.json: 100%"
     }
    },
    "273d1195e6164099afdd02ca3a2b0f9c": {
     "model_module": "@jupyter-widgets/controls",
     "model_module_version": "1.5.0",
     "model_name": "HBoxModel",
     "state": {
      "_dom_classes": [],
      "_model_module": "@jupyter-widgets/controls",
      "_model_module_version": "1.5.0",
      "_model_name": "HBoxModel",
      "_view_count": null,
      "_view_module": "@jupyter-widgets/controls",
      "_view_module_version": "1.5.0",
      "_view_name": "HBoxView",
      "box_style": "",
      "children": [
       "IPY_MODEL_e2599eec26aa49b38840fd54a0d42a2e",
       "IPY_MODEL_502ec2273acf4149b25be5165d402583",
       "IPY_MODEL_e9533a2bed6448e7a199f3af58bf1893"
      ],
      "layout": "IPY_MODEL_99f5fe50d68244708acbc5e4a37230fc"
     }
    },
    "2793290613ec41d9bb99e7e19ef91c1c": {
     "model_module": "@jupyter-widgets/controls",
     "model_module_version": "1.5.0",
     "model_name": "DescriptionStyleModel",
     "state": {
      "_model_module": "@jupyter-widgets/controls",
      "_model_module_version": "1.5.0",
      "_model_name": "DescriptionStyleModel",
      "_view_count": null,
      "_view_module": "@jupyter-widgets/base",
      "_view_module_version": "1.2.0",
      "_view_name": "StyleView",
      "description_width": ""
     }
    },
    "29bb4262b88c46e59f7aaf116f8220ae": {
     "model_module": "@jupyter-widgets/base",
     "model_module_version": "1.2.0",
     "model_name": "LayoutModel",
     "state": {
      "_model_module": "@jupyter-widgets/base",
      "_model_module_version": "1.2.0",
      "_model_name": "LayoutModel",
      "_view_count": null,
      "_view_module": "@jupyter-widgets/base",
      "_view_module_version": "1.2.0",
      "_view_name": "LayoutView",
      "align_content": null,
      "align_items": null,
      "align_self": null,
      "border": null,
      "bottom": null,
      "display": null,
      "flex": null,
      "flex_flow": null,
      "grid_area": null,
      "grid_auto_columns": null,
      "grid_auto_flow": null,
      "grid_auto_rows": null,
      "grid_column": null,
      "grid_gap": null,
      "grid_row": null,
      "grid_template_areas": null,
      "grid_template_columns": null,
      "grid_template_rows": null,
      "height": null,
      "justify_content": null,
      "justify_items": null,
      "left": null,
      "margin": null,
      "max_height": null,
      "max_width": null,
      "min_height": null,
      "min_width": null,
      "object_fit": null,
      "object_position": null,
      "order": null,
      "overflow": null,
      "overflow_x": null,
      "overflow_y": null,
      "padding": null,
      "right": null,
      "top": null,
      "visibility": null,
      "width": null
     }
    },
    "2a4667c1fa3c43fa85911909ade4c208": {
     "model_module": "@jupyter-widgets/controls",
     "model_module_version": "1.5.0",
     "model_name": "HTMLModel",
     "state": {
      "_dom_classes": [],
      "_model_module": "@jupyter-widgets/controls",
      "_model_module_version": "1.5.0",
      "_model_name": "HTMLModel",
      "_view_count": null,
      "_view_module": "@jupyter-widgets/controls",
      "_view_module_version": "1.5.0",
      "_view_name": "HTMLView",
      "description": "",
      "description_tooltip": null,
      "layout": "IPY_MODEL_c47ec2e1e4044971b19dff538a4702f1",
      "placeholder": "​",
      "style": "IPY_MODEL_738e5b7d60d24f83bf2d1767a1fe1d99",
      "value": "tokenizer_config.json: 100%"
     }
    },
    "2bf62dcce3c045ed8d8cca82112ce92f": {
     "model_module": "@jupyter-widgets/base",
     "model_module_version": "1.2.0",
     "model_name": "LayoutModel",
     "state": {
      "_model_module": "@jupyter-widgets/base",
      "_model_module_version": "1.2.0",
      "_model_name": "LayoutModel",
      "_view_count": null,
      "_view_module": "@jupyter-widgets/base",
      "_view_module_version": "1.2.0",
      "_view_name": "LayoutView",
      "align_content": null,
      "align_items": null,
      "align_self": null,
      "border": null,
      "bottom": null,
      "display": null,
      "flex": null,
      "flex_flow": null,
      "grid_area": null,
      "grid_auto_columns": null,
      "grid_auto_flow": null,
      "grid_auto_rows": null,
      "grid_column": null,
      "grid_gap": null,
      "grid_row": null,
      "grid_template_areas": null,
      "grid_template_columns": null,
      "grid_template_rows": null,
      "height": null,
      "justify_content": null,
      "justify_items": null,
      "left": null,
      "margin": null,
      "max_height": null,
      "max_width": null,
      "min_height": null,
      "min_width": null,
      "object_fit": null,
      "object_position": null,
      "order": null,
      "overflow": null,
      "overflow_x": null,
      "overflow_y": null,
      "padding": null,
      "right": null,
      "top": null,
      "visibility": null,
      "width": null
     }
    },
    "2e2a85b9842b44b6a58068aea133d7b7": {
     "model_module": "@jupyter-widgets/controls",
     "model_module_version": "1.5.0",
     "model_name": "FloatProgressModel",
     "state": {
      "_dom_classes": [],
      "_model_module": "@jupyter-widgets/controls",
      "_model_module_version": "1.5.0",
      "_model_name": "FloatProgressModel",
      "_view_count": null,
      "_view_module": "@jupyter-widgets/controls",
      "_view_module_version": "1.5.0",
      "_view_name": "ProgressView",
      "bar_style": "success",
      "description": "",
      "description_tooltip": null,
      "layout": "IPY_MODEL_9f3b97cb27124c649bf19d5146683959",
      "max": 567,
      "min": 0,
      "orientation": "horizontal",
      "style": "IPY_MODEL_69ff861b41a24c41b6b12eb5600c59e2",
      "value": 567
     }
    },
    "32749fc365974bc0a975eae93680b3c3": {
     "model_module": "@jupyter-widgets/controls",
     "model_module_version": "1.5.0",
     "model_name": "DescriptionStyleModel",
     "state": {
      "_model_module": "@jupyter-widgets/controls",
      "_model_module_version": "1.5.0",
      "_model_name": "DescriptionStyleModel",
      "_view_count": null,
      "_view_module": "@jupyter-widgets/base",
      "_view_module_version": "1.2.0",
      "_view_name": "StyleView",
      "description_width": ""
     }
    },
    "35945bf1660d47a4ad4190e2bf796212": {
     "model_module": "@jupyter-widgets/base",
     "model_module_version": "1.2.0",
     "model_name": "LayoutModel",
     "state": {
      "_model_module": "@jupyter-widgets/base",
      "_model_module_version": "1.2.0",
      "_model_name": "LayoutModel",
      "_view_count": null,
      "_view_module": "@jupyter-widgets/base",
      "_view_module_version": "1.2.0",
      "_view_name": "LayoutView",
      "align_content": null,
      "align_items": null,
      "align_self": null,
      "border": null,
      "bottom": null,
      "display": null,
      "flex": null,
      "flex_flow": null,
      "grid_area": null,
      "grid_auto_columns": null,
      "grid_auto_flow": null,
      "grid_auto_rows": null,
      "grid_column": null,
      "grid_gap": null,
      "grid_row": null,
      "grid_template_areas": null,
      "grid_template_columns": null,
      "grid_template_rows": null,
      "height": null,
      "justify_content": null,
      "justify_items": null,
      "left": null,
      "margin": null,
      "max_height": null,
      "max_width": null,
      "min_height": null,
      "min_width": null,
      "object_fit": null,
      "object_position": null,
      "order": null,
      "overflow": null,
      "overflow_x": null,
      "overflow_y": null,
      "padding": null,
      "right": null,
      "top": null,
      "visibility": null,
      "width": null
     }
    },
    "363fd297dd1e4d55b730dad9989bbe92": {
     "model_module": "@jupyter-widgets/controls",
     "model_module_version": "1.5.0",
     "model_name": "DescriptionStyleModel",
     "state": {
      "_model_module": "@jupyter-widgets/controls",
      "_model_module_version": "1.5.0",
      "_model_name": "DescriptionStyleModel",
      "_view_count": null,
      "_view_module": "@jupyter-widgets/base",
      "_view_module_version": "1.2.0",
      "_view_name": "StyleView",
      "description_width": ""
     }
    },
    "39e26871b8f9439aa9f3ca4b10df7d32": {
     "model_module": "@jupyter-widgets/base",
     "model_module_version": "1.2.0",
     "model_name": "LayoutModel",
     "state": {
      "_model_module": "@jupyter-widgets/base",
      "_model_module_version": "1.2.0",
      "_model_name": "LayoutModel",
      "_view_count": null,
      "_view_module": "@jupyter-widgets/base",
      "_view_module_version": "1.2.0",
      "_view_name": "LayoutView",
      "align_content": null,
      "align_items": null,
      "align_self": null,
      "border": null,
      "bottom": null,
      "display": null,
      "flex": null,
      "flex_flow": null,
      "grid_area": null,
      "grid_auto_columns": null,
      "grid_auto_flow": null,
      "grid_auto_rows": null,
      "grid_column": null,
      "grid_gap": null,
      "grid_row": null,
      "grid_template_areas": null,
      "grid_template_columns": null,
      "grid_template_rows": null,
      "height": null,
      "justify_content": null,
      "justify_items": null,
      "left": null,
      "margin": null,
      "max_height": null,
      "max_width": null,
      "min_height": null,
      "min_width": null,
      "object_fit": null,
      "object_position": null,
      "order": null,
      "overflow": null,
      "overflow_x": null,
      "overflow_y": null,
      "padding": null,
      "right": null,
      "top": null,
      "visibility": null,
      "width": null
     }
    },
    "3c1a2628c37648b4a50f12960d451011": {
     "model_module": "@jupyter-widgets/base",
     "model_module_version": "1.2.0",
     "model_name": "LayoutModel",
     "state": {
      "_model_module": "@jupyter-widgets/base",
      "_model_module_version": "1.2.0",
      "_model_name": "LayoutModel",
      "_view_count": null,
      "_view_module": "@jupyter-widgets/base",
      "_view_module_version": "1.2.0",
      "_view_name": "LayoutView",
      "align_content": null,
      "align_items": null,
      "align_self": null,
      "border": null,
      "bottom": null,
      "display": null,
      "flex": null,
      "flex_flow": null,
      "grid_area": null,
      "grid_auto_columns": null,
      "grid_auto_flow": null,
      "grid_auto_rows": null,
      "grid_column": null,
      "grid_gap": null,
      "grid_row": null,
      "grid_template_areas": null,
      "grid_template_columns": null,
      "grid_template_rows": null,
      "height": null,
      "justify_content": null,
      "justify_items": null,
      "left": null,
      "margin": null,
      "max_height": null,
      "max_width": null,
      "min_height": null,
      "min_width": null,
      "object_fit": null,
      "object_position": null,
      "order": null,
      "overflow": null,
      "overflow_x": null,
      "overflow_y": null,
      "padding": null,
      "right": null,
      "top": null,
      "visibility": null,
      "width": null
     }
    },
    "3d782cab680442caa46845a856aafad8": {
     "model_module": "@jupyter-widgets/controls",
     "model_module_version": "1.5.0",
     "model_name": "HTMLModel",
     "state": {
      "_dom_classes": [],
      "_model_module": "@jupyter-widgets/controls",
      "_model_module_version": "1.5.0",
      "_model_name": "HTMLModel",
      "_view_count": null,
      "_view_module": "@jupyter-widgets/controls",
      "_view_module_version": "1.5.0",
      "_view_name": "HTMLView",
      "description": "",
      "description_tooltip": null,
      "layout": "IPY_MODEL_78f73a468de847ad80ca04428b584187",
      "placeholder": "​",
      "style": "IPY_MODEL_ff07663f2ea6428297429b8ad8c5e6ad",
      "value": " 567/567 [00:00&lt;00:00, 40.8kB/s]"
     }
    },
    "4f58877f38ea480a86950c6efe373d1e": {
     "model_module": "@jupyter-widgets/controls",
     "model_module_version": "1.5.0",
     "model_name": "HBoxModel",
     "state": {
      "_dom_classes": [],
      "_model_module": "@jupyter-widgets/controls",
      "_model_module_version": "1.5.0",
      "_model_name": "HBoxModel",
      "_view_count": null,
      "_view_module": "@jupyter-widgets/controls",
      "_view_module_version": "1.5.0",
      "_view_name": "HBoxView",
      "box_style": "",
      "children": [
       "IPY_MODEL_26f50b307e0341738600f67a3839c44c",
       "IPY_MODEL_2e2a85b9842b44b6a58068aea133d7b7",
       "IPY_MODEL_3d782cab680442caa46845a856aafad8"
      ],
      "layout": "IPY_MODEL_857b9874473e43729dab3f3bd240fd00"
     }
    },
    "5003e891806e496e9c38c3e242f8ef5a": {
     "model_module": "@jupyter-widgets/controls",
     "model_module_version": "1.5.0",
     "model_name": "HTMLModel",
     "state": {
      "_dom_classes": [],
      "_model_module": "@jupyter-widgets/controls",
      "_model_module_version": "1.5.0",
      "_model_name": "HTMLModel",
      "_view_count": null,
      "_view_module": "@jupyter-widgets/controls",
      "_view_module_version": "1.5.0",
      "_view_name": "HTMLView",
      "description": "",
      "description_tooltip": null,
      "layout": "IPY_MODEL_2bf62dcce3c045ed8d8cca82112ce92f",
      "placeholder": "​",
      "style": "IPY_MODEL_c4cce6a3648f48ac9711f09c524637fb",
      "value": " 99.0/99.0 [00:00&lt;00:00, 6.40kB/s]"
     }
    },
    "502ec2273acf4149b25be5165d402583": {
     "model_module": "@jupyter-widgets/controls",
     "model_module_version": "1.5.0",
     "model_name": "FloatProgressModel",
     "state": {
      "_dom_classes": [],
      "_model_module": "@jupyter-widgets/controls",
      "_model_module_version": "1.5.0",
      "_model_name": "FloatProgressModel",
      "_view_count": null,
      "_view_module": "@jupyter-widgets/controls",
      "_view_module_version": "1.5.0",
      "_view_name": "ProgressView",
      "bar_style": "success",
      "description": "",
      "description_tooltip": null,
      "layout": "IPY_MODEL_91a1a5929ed24ac4b261618f9e4457bb",
      "max": 2113710,
      "min": 0,
      "orientation": "horizontal",
      "style": "IPY_MODEL_0df93b18ecfd479aa59a2f6a1add89c0",
      "value": 2113710
     }
    },
    "51c40169897a4c21be1f26f60588aa93": {
     "model_module": "@jupyter-widgets/base",
     "model_module_version": "1.2.0",
     "model_name": "LayoutModel",
     "state": {
      "_model_module": "@jupyter-widgets/base",
      "_model_module_version": "1.2.0",
      "_model_name": "LayoutModel",
      "_view_count": null,
      "_view_module": "@jupyter-widgets/base",
      "_view_module_version": "1.2.0",
      "_view_name": "LayoutView",
      "align_content": null,
      "align_items": null,
      "align_self": null,
      "border": null,
      "bottom": null,
      "display": null,
      "flex": null,
      "flex_flow": null,
      "grid_area": null,
      "grid_auto_columns": null,
      "grid_auto_flow": null,
      "grid_auto_rows": null,
      "grid_column": null,
      "grid_gap": null,
      "grid_row": null,
      "grid_template_areas": null,
      "grid_template_columns": null,
      "grid_template_rows": null,
      "height": null,
      "justify_content": null,
      "justify_items": null,
      "left": null,
      "margin": null,
      "max_height": null,
      "max_width": null,
      "min_height": null,
      "min_width": null,
      "object_fit": null,
      "object_position": null,
      "order": null,
      "overflow": null,
      "overflow_x": null,
      "overflow_y": null,
      "padding": null,
      "right": null,
      "top": null,
      "visibility": null,
      "width": null
     }
    },
    "5e9abfc3ca6a4d19bff1f159de63d64d": {
     "model_module": "@jupyter-widgets/base",
     "model_module_version": "1.2.0",
     "model_name": "LayoutModel",
     "state": {
      "_model_module": "@jupyter-widgets/base",
      "_model_module_version": "1.2.0",
      "_model_name": "LayoutModel",
      "_view_count": null,
      "_view_module": "@jupyter-widgets/base",
      "_view_module_version": "1.2.0",
      "_view_name": "LayoutView",
      "align_content": null,
      "align_items": null,
      "align_self": null,
      "border": null,
      "bottom": null,
      "display": null,
      "flex": null,
      "flex_flow": null,
      "grid_area": null,
      "grid_auto_columns": null,
      "grid_auto_flow": null,
      "grid_auto_rows": null,
      "grid_column": null,
      "grid_gap": null,
      "grid_row": null,
      "grid_template_areas": null,
      "grid_template_columns": null,
      "grid_template_rows": null,
      "height": null,
      "justify_content": null,
      "justify_items": null,
      "left": null,
      "margin": null,
      "max_height": null,
      "max_width": null,
      "min_height": null,
      "min_width": null,
      "object_fit": null,
      "object_position": null,
      "order": null,
      "overflow": null,
      "overflow_x": null,
      "overflow_y": null,
      "padding": null,
      "right": null,
      "top": null,
      "visibility": null,
      "width": null
     }
    },
    "69ff861b41a24c41b6b12eb5600c59e2": {
     "model_module": "@jupyter-widgets/controls",
     "model_module_version": "1.5.0",
     "model_name": "ProgressStyleModel",
     "state": {
      "_model_module": "@jupyter-widgets/controls",
      "_model_module_version": "1.5.0",
      "_model_name": "ProgressStyleModel",
      "_view_count": null,
      "_view_module": "@jupyter-widgets/base",
      "_view_module_version": "1.2.0",
      "_view_name": "StyleView",
      "bar_color": null,
      "description_width": ""
     }
    },
    "70c4b6b0918c4cbdb452dd3d2a304a4e": {
     "model_module": "@jupyter-widgets/controls",
     "model_module_version": "1.5.0",
     "model_name": "HBoxModel",
     "state": {
      "_dom_classes": [],
      "_model_module": "@jupyter-widgets/controls",
      "_model_module_version": "1.5.0",
      "_model_name": "HBoxModel",
      "_view_count": null,
      "_view_module": "@jupyter-widgets/controls",
      "_view_module_version": "1.5.0",
      "_view_name": "HBoxView",
      "box_style": "",
      "children": [
       "IPY_MODEL_ead820b804bf465988abad58840605bc",
       "IPY_MODEL_7cf2a945b4fc48e0af2622163a35a484",
       "IPY_MODEL_a0afde3ad1a748e4bc5516c7c75ca04f"
      ],
      "layout": "IPY_MODEL_5e9abfc3ca6a4d19bff1f159de63d64d"
     }
    },
    "738e5b7d60d24f83bf2d1767a1fe1d99": {
     "model_module": "@jupyter-widgets/controls",
     "model_module_version": "1.5.0",
     "model_name": "DescriptionStyleModel",
     "state": {
      "_model_module": "@jupyter-widgets/controls",
      "_model_module_version": "1.5.0",
      "_model_name": "DescriptionStyleModel",
      "_view_count": null,
      "_view_module": "@jupyter-widgets/base",
      "_view_module_version": "1.2.0",
      "_view_name": "StyleView",
      "description_width": ""
     }
    },
    "78f73a468de847ad80ca04428b584187": {
     "model_module": "@jupyter-widgets/base",
     "model_module_version": "1.2.0",
     "model_name": "LayoutModel",
     "state": {
      "_model_module": "@jupyter-widgets/base",
      "_model_module_version": "1.2.0",
      "_model_name": "LayoutModel",
      "_view_count": null,
      "_view_module": "@jupyter-widgets/base",
      "_view_module_version": "1.2.0",
      "_view_name": "LayoutView",
      "align_content": null,
      "align_items": null,
      "align_self": null,
      "border": null,
      "bottom": null,
      "display": null,
      "flex": null,
      "flex_flow": null,
      "grid_area": null,
      "grid_auto_columns": null,
      "grid_auto_flow": null,
      "grid_auto_rows": null,
      "grid_column": null,
      "grid_gap": null,
      "grid_row": null,
      "grid_template_areas": null,
      "grid_template_columns": null,
      "grid_template_rows": null,
      "height": null,
      "justify_content": null,
      "justify_items": null,
      "left": null,
      "margin": null,
      "max_height": null,
      "max_width": null,
      "min_height": null,
      "min_width": null,
      "object_fit": null,
      "object_position": null,
      "order": null,
      "overflow": null,
      "overflow_x": null,
      "overflow_y": null,
      "padding": null,
      "right": null,
      "top": null,
      "visibility": null,
      "width": null
     }
    },
    "7cf2a945b4fc48e0af2622163a35a484": {
     "model_module": "@jupyter-widgets/controls",
     "model_module_version": "1.5.0",
     "model_name": "FloatProgressModel",
     "state": {
      "_dom_classes": [],
      "_model_module": "@jupyter-widgets/controls",
      "_model_module_version": "1.5.0",
      "_model_name": "FloatProgressModel",
      "_view_count": null,
      "_view_module": "@jupyter-widgets/controls",
      "_view_module_version": "1.5.0",
      "_view_name": "ProgressView",
      "bar_style": "success",
      "description": "",
      "description_tooltip": null,
      "layout": "IPY_MODEL_a3f1bf3eb1e245bd8bdfb4ecffc9c43d",
      "max": 166029852,
      "min": 0,
      "orientation": "horizontal",
      "style": "IPY_MODEL_9ca7f8fd7bbb41088cf4492e06b71027",
      "value": 166029852
     }
    },
    "7e615c58c65f48e4adf9ab6a4b320bbb": {
     "model_module": "@jupyter-widgets/controls",
     "model_module_version": "1.5.0",
     "model_name": "ProgressStyleModel",
     "state": {
      "_model_module": "@jupyter-widgets/controls",
      "_model_module_version": "1.5.0",
      "_model_name": "ProgressStyleModel",
      "_view_count": null,
      "_view_module": "@jupyter-widgets/base",
      "_view_module_version": "1.2.0",
      "_view_name": "StyleView",
      "bar_color": null,
      "description_width": ""
     }
    },
    "857b9874473e43729dab3f3bd240fd00": {
     "model_module": "@jupyter-widgets/base",
     "model_module_version": "1.2.0",
     "model_name": "LayoutModel",
     "state": {
      "_model_module": "@jupyter-widgets/base",
      "_model_module_version": "1.2.0",
      "_model_name": "LayoutModel",
      "_view_count": null,
      "_view_module": "@jupyter-widgets/base",
      "_view_module_version": "1.2.0",
      "_view_name": "LayoutView",
      "align_content": null,
      "align_items": null,
      "align_self": null,
      "border": null,
      "bottom": null,
      "display": null,
      "flex": null,
      "flex_flow": null,
      "grid_area": null,
      "grid_auto_columns": null,
      "grid_auto_flow": null,
      "grid_auto_rows": null,
      "grid_column": null,
      "grid_gap": null,
      "grid_row": null,
      "grid_template_areas": null,
      "grid_template_columns": null,
      "grid_template_rows": null,
      "height": null,
      "justify_content": null,
      "justify_items": null,
      "left": null,
      "margin": null,
      "max_height": null,
      "max_width": null,
      "min_height": null,
      "min_width": null,
      "object_fit": null,
      "object_position": null,
      "order": null,
      "overflow": null,
      "overflow_x": null,
      "overflow_y": null,
      "padding": null,
      "right": null,
      "top": null,
      "visibility": null,
      "width": null
     }
    },
    "85ea2672e549427bad5c82abeafcb4bd": {
     "model_module": "@jupyter-widgets/base",
     "model_module_version": "1.2.0",
     "model_name": "LayoutModel",
     "state": {
      "_model_module": "@jupyter-widgets/base",
      "_model_module_version": "1.2.0",
      "_model_name": "LayoutModel",
      "_view_count": null,
      "_view_module": "@jupyter-widgets/base",
      "_view_module_version": "1.2.0",
      "_view_name": "LayoutView",
      "align_content": null,
      "align_items": null,
      "align_self": null,
      "border": null,
      "bottom": null,
      "display": null,
      "flex": null,
      "flex_flow": null,
      "grid_area": null,
      "grid_auto_columns": null,
      "grid_auto_flow": null,
      "grid_auto_rows": null,
      "grid_column": null,
      "grid_gap": null,
      "grid_row": null,
      "grid_template_areas": null,
      "grid_template_columns": null,
      "grid_template_rows": null,
      "height": null,
      "justify_content": null,
      "justify_items": null,
      "left": null,
      "margin": null,
      "max_height": null,
      "max_width": null,
      "min_height": null,
      "min_width": null,
      "object_fit": null,
      "object_position": null,
      "order": null,
      "overflow": null,
      "overflow_x": null,
      "overflow_y": null,
      "padding": null,
      "right": null,
      "top": null,
      "visibility": null,
      "width": null
     }
    },
    "91a1a5929ed24ac4b261618f9e4457bb": {
     "model_module": "@jupyter-widgets/base",
     "model_module_version": "1.2.0",
     "model_name": "LayoutModel",
     "state": {
      "_model_module": "@jupyter-widgets/base",
      "_model_module_version": "1.2.0",
      "_model_name": "LayoutModel",
      "_view_count": null,
      "_view_module": "@jupyter-widgets/base",
      "_view_module_version": "1.2.0",
      "_view_name": "LayoutView",
      "align_content": null,
      "align_items": null,
      "align_self": null,
      "border": null,
      "bottom": null,
      "display": null,
      "flex": null,
      "flex_flow": null,
      "grid_area": null,
      "grid_auto_columns": null,
      "grid_auto_flow": null,
      "grid_auto_rows": null,
      "grid_column": null,
      "grid_gap": null,
      "grid_row": null,
      "grid_template_areas": null,
      "grid_template_columns": null,
      "grid_template_rows": null,
      "height": null,
      "justify_content": null,
      "justify_items": null,
      "left": null,
      "margin": null,
      "max_height": null,
      "max_width": null,
      "min_height": null,
      "min_width": null,
      "object_fit": null,
      "object_position": null,
      "order": null,
      "overflow": null,
      "overflow_x": null,
      "overflow_y": null,
      "padding": null,
      "right": null,
      "top": null,
      "visibility": null,
      "width": null
     }
    },
    "93ef2d5364cc431e8766c7207de28563": {
     "model_module": "@jupyter-widgets/controls",
     "model_module_version": "1.5.0",
     "model_name": "DescriptionStyleModel",
     "state": {
      "_model_module": "@jupyter-widgets/controls",
      "_model_module_version": "1.5.0",
      "_model_name": "DescriptionStyleModel",
      "_view_count": null,
      "_view_module": "@jupyter-widgets/base",
      "_view_module_version": "1.2.0",
      "_view_name": "StyleView",
      "description_width": ""
     }
    },
    "96454b0ef34d4b56837f40f555ecfd4a": {
     "model_module": "@jupyter-widgets/controls",
     "model_module_version": "1.5.0",
     "model_name": "FloatProgressModel",
     "state": {
      "_dom_classes": [],
      "_model_module": "@jupyter-widgets/controls",
      "_model_module_version": "1.5.0",
      "_model_name": "FloatProgressModel",
      "_view_count": null,
      "_view_module": "@jupyter-widgets/controls",
      "_view_module_version": "1.5.0",
      "_view_name": "ProgressView",
      "bar_style": "success",
      "description": "",
      "description_tooltip": null,
      "layout": "IPY_MODEL_3c1a2628c37648b4a50f12960d451011",
      "max": 99,
      "min": 0,
      "orientation": "horizontal",
      "style": "IPY_MODEL_c130fa85705c49bfbbf71674c78f2313",
      "value": 99
     }
    },
    "97cb7ad01ad04cf8b472fed392685075": {
     "model_module": "@jupyter-widgets/controls",
     "model_module_version": "1.5.0",
     "model_name": "DescriptionStyleModel",
     "state": {
      "_model_module": "@jupyter-widgets/controls",
      "_model_module_version": "1.5.0",
      "_model_name": "DescriptionStyleModel",
      "_view_count": null,
      "_view_module": "@jupyter-widgets/base",
      "_view_module_version": "1.2.0",
      "_view_name": "StyleView",
      "description_width": ""
     }
    },
    "99f5fe50d68244708acbc5e4a37230fc": {
     "model_module": "@jupyter-widgets/base",
     "model_module_version": "1.2.0",
     "model_name": "LayoutModel",
     "state": {
      "_model_module": "@jupyter-widgets/base",
      "_model_module_version": "1.2.0",
      "_model_name": "LayoutModel",
      "_view_count": null,
      "_view_module": "@jupyter-widgets/base",
      "_view_module_version": "1.2.0",
      "_view_name": "LayoutView",
      "align_content": null,
      "align_items": null,
      "align_self": null,
      "border": null,
      "bottom": null,
      "display": null,
      "flex": null,
      "flex_flow": null,
      "grid_area": null,
      "grid_auto_columns": null,
      "grid_auto_flow": null,
      "grid_auto_rows": null,
      "grid_column": null,
      "grid_gap": null,
      "grid_row": null,
      "grid_template_areas": null,
      "grid_template_columns": null,
      "grid_template_rows": null,
      "height": null,
      "justify_content": null,
      "justify_items": null,
      "left": null,
      "margin": null,
      "max_height": null,
      "max_width": null,
      "min_height": null,
      "min_width": null,
      "object_fit": null,
      "object_position": null,
      "order": null,
      "overflow": null,
      "overflow_x": null,
      "overflow_y": null,
      "padding": null,
      "right": null,
      "top": null,
      "visibility": null,
      "width": null
     }
    },
    "9ca7f8fd7bbb41088cf4492e06b71027": {
     "model_module": "@jupyter-widgets/controls",
     "model_module_version": "1.5.0",
     "model_name": "ProgressStyleModel",
     "state": {
      "_model_module": "@jupyter-widgets/controls",
      "_model_module_version": "1.5.0",
      "_model_name": "ProgressStyleModel",
      "_view_count": null,
      "_view_module": "@jupyter-widgets/base",
      "_view_module_version": "1.2.0",
      "_view_name": "StyleView",
      "bar_color": null,
      "description_width": ""
     }
    },
    "9d11e7abf8a04b8bbb84538880281f55": {
     "model_module": "@jupyter-widgets/controls",
     "model_module_version": "1.5.0",
     "model_name": "DescriptionStyleModel",
     "state": {
      "_model_module": "@jupyter-widgets/controls",
      "_model_module_version": "1.5.0",
      "_model_name": "DescriptionStyleModel",
      "_view_count": null,
      "_view_module": "@jupyter-widgets/base",
      "_view_module_version": "1.2.0",
      "_view_name": "StyleView",
      "description_width": ""
     }
    },
    "9f3b97cb27124c649bf19d5146683959": {
     "model_module": "@jupyter-widgets/base",
     "model_module_version": "1.2.0",
     "model_name": "LayoutModel",
     "state": {
      "_model_module": "@jupyter-widgets/base",
      "_model_module_version": "1.2.0",
      "_model_name": "LayoutModel",
      "_view_count": null,
      "_view_module": "@jupyter-widgets/base",
      "_view_module_version": "1.2.0",
      "_view_name": "LayoutView",
      "align_content": null,
      "align_items": null,
      "align_self": null,
      "border": null,
      "bottom": null,
      "display": null,
      "flex": null,
      "flex_flow": null,
      "grid_area": null,
      "grid_auto_columns": null,
      "grid_auto_flow": null,
      "grid_auto_rows": null,
      "grid_column": null,
      "grid_gap": null,
      "grid_row": null,
      "grid_template_areas": null,
      "grid_template_columns": null,
      "grid_template_rows": null,
      "height": null,
      "justify_content": null,
      "justify_items": null,
      "left": null,
      "margin": null,
      "max_height": null,
      "max_width": null,
      "min_height": null,
      "min_width": null,
      "object_fit": null,
      "object_position": null,
      "order": null,
      "overflow": null,
      "overflow_x": null,
      "overflow_y": null,
      "padding": null,
      "right": null,
      "top": null,
      "visibility": null,
      "width": null
     }
    },
    "a0afde3ad1a748e4bc5516c7c75ca04f": {
     "model_module": "@jupyter-widgets/controls",
     "model_module_version": "1.5.0",
     "model_name": "HTMLModel",
     "state": {
      "_dom_classes": [],
      "_model_module": "@jupyter-widgets/controls",
      "_model_module_version": "1.5.0",
      "_model_name": "HTMLModel",
      "_view_count": null,
      "_view_module": "@jupyter-widgets/controls",
      "_view_module_version": "1.5.0",
      "_view_name": "HTMLView",
      "description": "",
      "description_tooltip": null,
      "layout": "IPY_MODEL_35945bf1660d47a4ad4190e2bf796212",
      "placeholder": "​",
      "style": "IPY_MODEL_363fd297dd1e4d55b730dad9989bbe92",
      "value": " 166M/166M [00:00&lt;00:00, 366MB/s]"
     }
    },
    "a3f1bf3eb1e245bd8bdfb4ecffc9c43d": {
     "model_module": "@jupyter-widgets/base",
     "model_module_version": "1.2.0",
     "model_name": "LayoutModel",
     "state": {
      "_model_module": "@jupyter-widgets/base",
      "_model_module_version": "1.2.0",
      "_model_name": "LayoutModel",
      "_view_count": null,
      "_view_module": "@jupyter-widgets/base",
      "_view_module_version": "1.2.0",
      "_view_name": "LayoutView",
      "align_content": null,
      "align_items": null,
      "align_self": null,
      "border": null,
      "bottom": null,
      "display": null,
      "flex": null,
      "flex_flow": null,
      "grid_area": null,
      "grid_auto_columns": null,
      "grid_auto_flow": null,
      "grid_auto_rows": null,
      "grid_column": null,
      "grid_gap": null,
      "grid_row": null,
      "grid_template_areas": null,
      "grid_template_columns": null,
      "grid_template_rows": null,
      "height": null,
      "justify_content": null,
      "justify_items": null,
      "left": null,
      "margin": null,
      "max_height": null,
      "max_width": null,
      "min_height": null,
      "min_width": null,
      "object_fit": null,
      "object_position": null,
      "order": null,
      "overflow": null,
      "overflow_x": null,
      "overflow_y": null,
      "padding": null,
      "right": null,
      "top": null,
      "visibility": null,
      "width": null
     }
    },
    "a4d27ae13a4442adabc1bdb42faa8dc8": {
     "model_module": "@jupyter-widgets/base",
     "model_module_version": "1.2.0",
     "model_name": "LayoutModel",
     "state": {
      "_model_module": "@jupyter-widgets/base",
      "_model_module_version": "1.2.0",
      "_model_name": "LayoutModel",
      "_view_count": null,
      "_view_module": "@jupyter-widgets/base",
      "_view_module_version": "1.2.0",
      "_view_name": "LayoutView",
      "align_content": null,
      "align_items": null,
      "align_self": null,
      "border": null,
      "bottom": null,
      "display": null,
      "flex": null,
      "flex_flow": null,
      "grid_area": null,
      "grid_auto_columns": null,
      "grid_auto_flow": null,
      "grid_auto_rows": null,
      "grid_column": null,
      "grid_gap": null,
      "grid_row": null,
      "grid_template_areas": null,
      "grid_template_columns": null,
      "grid_template_rows": null,
      "height": null,
      "justify_content": null,
      "justify_items": null,
      "left": null,
      "margin": null,
      "max_height": null,
      "max_width": null,
      "min_height": null,
      "min_width": null,
      "object_fit": null,
      "object_position": null,
      "order": null,
      "overflow": null,
      "overflow_x": null,
      "overflow_y": null,
      "padding": null,
      "right": null,
      "top": null,
      "visibility": null,
      "width": null
     }
    },
    "b2676bcd797f4505add2ab7f8bbf613b": {
     "model_module": "@jupyter-widgets/base",
     "model_module_version": "1.2.0",
     "model_name": "LayoutModel",
     "state": {
      "_model_module": "@jupyter-widgets/base",
      "_model_module_version": "1.2.0",
      "_model_name": "LayoutModel",
      "_view_count": null,
      "_view_module": "@jupyter-widgets/base",
      "_view_module_version": "1.2.0",
      "_view_name": "LayoutView",
      "align_content": null,
      "align_items": null,
      "align_self": null,
      "border": null,
      "bottom": null,
      "display": null,
      "flex": null,
      "flex_flow": null,
      "grid_area": null,
      "grid_auto_columns": null,
      "grid_auto_flow": null,
      "grid_auto_rows": null,
      "grid_column": null,
      "grid_gap": null,
      "grid_row": null,
      "grid_template_areas": null,
      "grid_template_columns": null,
      "grid_template_rows": null,
      "height": null,
      "justify_content": null,
      "justify_items": null,
      "left": null,
      "margin": null,
      "max_height": null,
      "max_width": null,
      "min_height": null,
      "min_width": null,
      "object_fit": null,
      "object_position": null,
      "order": null,
      "overflow": null,
      "overflow_x": null,
      "overflow_y": null,
      "padding": null,
      "right": null,
      "top": null,
      "visibility": null,
      "width": null
     }
    },
    "b364f782c8df4864a270a02c2fa3d469": {
     "model_module": "@jupyter-widgets/controls",
     "model_module_version": "1.5.0",
     "model_name": "HBoxModel",
     "state": {
      "_dom_classes": [],
      "_model_module": "@jupyter-widgets/controls",
      "_model_module_version": "1.5.0",
      "_model_name": "HBoxModel",
      "_view_count": null,
      "_view_module": "@jupyter-widgets/controls",
      "_view_module_version": "1.5.0",
      "_view_name": "HBoxView",
      "box_style": "",
      "children": [
       "IPY_MODEL_deaf4f52175c4230a417757425b8d9f4",
       "IPY_MODEL_96454b0ef34d4b56837f40f555ecfd4a",
       "IPY_MODEL_5003e891806e496e9c38c3e242f8ef5a"
      ],
      "layout": "IPY_MODEL_29bb4262b88c46e59f7aaf116f8220ae"
     }
    },
    "b519e34a8ac846c1bbe07fb0f7c47b40": {
     "model_module": "@jupyter-widgets/controls",
     "model_module_version": "1.5.0",
     "model_name": "HBoxModel",
     "state": {
      "_dom_classes": [],
      "_model_module": "@jupyter-widgets/controls",
      "_model_module_version": "1.5.0",
      "_model_name": "HBoxModel",
      "_view_count": null,
      "_view_module": "@jupyter-widgets/controls",
      "_view_module_version": "1.5.0",
      "_view_name": "HBoxView",
      "box_style": "",
      "children": [
       "IPY_MODEL_2a4667c1fa3c43fa85911909ade4c208",
       "IPY_MODEL_1e35e267085f40c7b06499edb36398e0",
       "IPY_MODEL_19087122473c430aa3255af99f1c8b77"
      ],
      "layout": "IPY_MODEL_05d2736b761f40239f148ba84de8c2cb"
     }
    },
    "c130fa85705c49bfbbf71674c78f2313": {
     "model_module": "@jupyter-widgets/controls",
     "model_module_version": "1.5.0",
     "model_name": "ProgressStyleModel",
     "state": {
      "_model_module": "@jupyter-widgets/controls",
      "_model_module_version": "1.5.0",
      "_model_name": "ProgressStyleModel",
      "_view_count": null,
      "_view_module": "@jupyter-widgets/base",
      "_view_module_version": "1.2.0",
      "_view_name": "StyleView",
      "bar_color": null,
      "description_width": ""
     }
    },
    "c47ec2e1e4044971b19dff538a4702f1": {
     "model_module": "@jupyter-widgets/base",
     "model_module_version": "1.2.0",
     "model_name": "LayoutModel",
     "state": {
      "_model_module": "@jupyter-widgets/base",
      "_model_module_version": "1.2.0",
      "_model_name": "LayoutModel",
      "_view_count": null,
      "_view_module": "@jupyter-widgets/base",
      "_view_module_version": "1.2.0",
      "_view_name": "LayoutView",
      "align_content": null,
      "align_items": null,
      "align_self": null,
      "border": null,
      "bottom": null,
      "display": null,
      "flex": null,
      "flex_flow": null,
      "grid_area": null,
      "grid_auto_columns": null,
      "grid_auto_flow": null,
      "grid_auto_rows": null,
      "grid_column": null,
      "grid_gap": null,
      "grid_row": null,
      "grid_template_areas": null,
      "grid_template_columns": null,
      "grid_template_rows": null,
      "height": null,
      "justify_content": null,
      "justify_items": null,
      "left": null,
      "margin": null,
      "max_height": null,
      "max_width": null,
      "min_height": null,
      "min_width": null,
      "object_fit": null,
      "object_position": null,
      "order": null,
      "overflow": null,
      "overflow_x": null,
      "overflow_y": null,
      "padding": null,
      "right": null,
      "top": null,
      "visibility": null,
      "width": null
     }
    },
    "c4cce6a3648f48ac9711f09c524637fb": {
     "model_module": "@jupyter-widgets/controls",
     "model_module_version": "1.5.0",
     "model_name": "DescriptionStyleModel",
     "state": {
      "_model_module": "@jupyter-widgets/controls",
      "_model_module_version": "1.5.0",
      "_model_name": "DescriptionStyleModel",
      "_view_count": null,
      "_view_module": "@jupyter-widgets/base",
      "_view_module_version": "1.2.0",
      "_view_name": "StyleView",
      "description_width": ""
     }
    },
    "c51c032beebd42a8874fa08c7d087eb8": {
     "model_module": "@jupyter-widgets/controls",
     "model_module_version": "1.5.0",
     "model_name": "DescriptionStyleModel",
     "state": {
      "_model_module": "@jupyter-widgets/controls",
      "_model_module_version": "1.5.0",
      "_model_name": "DescriptionStyleModel",
      "_view_count": null,
      "_view_module": "@jupyter-widgets/base",
      "_view_module_version": "1.2.0",
      "_view_name": "StyleView",
      "description_width": ""
     }
    },
    "cf249cfe1742424db91c27806810e6c4": {
     "model_module": "@jupyter-widgets/base",
     "model_module_version": "1.2.0",
     "model_name": "LayoutModel",
     "state": {
      "_model_module": "@jupyter-widgets/base",
      "_model_module_version": "1.2.0",
      "_model_name": "LayoutModel",
      "_view_count": null,
      "_view_module": "@jupyter-widgets/base",
      "_view_module_version": "1.2.0",
      "_view_name": "LayoutView",
      "align_content": null,
      "align_items": null,
      "align_self": null,
      "border": null,
      "bottom": null,
      "display": null,
      "flex": null,
      "flex_flow": null,
      "grid_area": null,
      "grid_auto_columns": null,
      "grid_auto_flow": null,
      "grid_auto_rows": null,
      "grid_column": null,
      "grid_gap": null,
      "grid_row": null,
      "grid_template_areas": null,
      "grid_template_columns": null,
      "grid_template_rows": null,
      "height": null,
      "justify_content": null,
      "justify_items": null,
      "left": null,
      "margin": null,
      "max_height": null,
      "max_width": null,
      "min_height": null,
      "min_width": null,
      "object_fit": null,
      "object_position": null,
      "order": null,
      "overflow": null,
      "overflow_x": null,
      "overflow_y": null,
      "padding": null,
      "right": null,
      "top": null,
      "visibility": null,
      "width": null
     }
    },
    "deaf4f52175c4230a417757425b8d9f4": {
     "model_module": "@jupyter-widgets/controls",
     "model_module_version": "1.5.0",
     "model_name": "HTMLModel",
     "state": {
      "_dom_classes": [],
      "_model_module": "@jupyter-widgets/controls",
      "_model_module_version": "1.5.0",
      "_model_name": "HTMLModel",
      "_view_count": null,
      "_view_module": "@jupyter-widgets/controls",
      "_view_module_version": "1.5.0",
      "_view_name": "HTMLView",
      "description": "",
      "description_tooltip": null,
      "layout": "IPY_MODEL_85ea2672e549427bad5c82abeafcb4bd",
      "placeholder": "​",
      "style": "IPY_MODEL_93ef2d5364cc431e8766c7207de28563",
      "value": "special_tokens_map.json: 100%"
     }
    },
    "e2599eec26aa49b38840fd54a0d42a2e": {
     "model_module": "@jupyter-widgets/controls",
     "model_module_version": "1.5.0",
     "model_name": "HTMLModel",
     "state": {
      "_dom_classes": [],
      "_model_module": "@jupyter-widgets/controls",
      "_model_module_version": "1.5.0",
      "_model_name": "HTMLModel",
      "_view_count": null,
      "_view_module": "@jupyter-widgets/controls",
      "_view_module_version": "1.5.0",
      "_view_name": "HTMLView",
      "description": "",
      "description_tooltip": null,
      "layout": "IPY_MODEL_cf249cfe1742424db91c27806810e6c4",
      "placeholder": "​",
      "style": "IPY_MODEL_9d11e7abf8a04b8bbb84538880281f55",
      "value": "tokenizer.json: 100%"
     }
    },
    "e9533a2bed6448e7a199f3af58bf1893": {
     "model_module": "@jupyter-widgets/controls",
     "model_module_version": "1.5.0",
     "model_name": "HTMLModel",
     "state": {
      "_dom_classes": [],
      "_model_module": "@jupyter-widgets/controls",
      "_model_module_version": "1.5.0",
      "_model_name": "HTMLModel",
      "_view_count": null,
      "_view_module": "@jupyter-widgets/controls",
      "_view_module_version": "1.5.0",
      "_view_name": "HTMLView",
      "description": "",
      "description_tooltip": null,
      "layout": "IPY_MODEL_b2676bcd797f4505add2ab7f8bbf613b",
      "placeholder": "​",
      "style": "IPY_MODEL_2793290613ec41d9bb99e7e19ef91c1c",
      "value": " 2.11M/2.11M [00:00&lt;00:00, 4.91MB/s]"
     }
    },
    "ead820b804bf465988abad58840605bc": {
     "model_module": "@jupyter-widgets/controls",
     "model_module_version": "1.5.0",
     "model_name": "HTMLModel",
     "state": {
      "_dom_classes": [],
      "_model_module": "@jupyter-widgets/controls",
      "_model_module_version": "1.5.0",
      "_model_name": "HTMLModel",
      "_view_count": null,
      "_view_module": "@jupyter-widgets/controls",
      "_view_module_version": "1.5.0",
      "_view_name": "HTMLView",
      "description": "",
      "description_tooltip": null,
      "layout": "IPY_MODEL_51c40169897a4c21be1f26f60588aa93",
      "placeholder": "​",
      "style": "IPY_MODEL_97cb7ad01ad04cf8b472fed392685075",
      "value": "model.safetensors: 100%"
     }
    },
    "fe32bf79d13147fdae30a0055305bc69": {
     "model_module": "@jupyter-widgets/base",
     "model_module_version": "1.2.0",
     "model_name": "LayoutModel",
     "state": {
      "_model_module": "@jupyter-widgets/base",
      "_model_module_version": "1.2.0",
      "_model_name": "LayoutModel",
      "_view_count": null,
      "_view_module": "@jupyter-widgets/base",
      "_view_module_version": "1.2.0",
      "_view_name": "LayoutView",
      "align_content": null,
      "align_items": null,
      "align_self": null,
      "border": null,
      "bottom": null,
      "display": null,
      "flex": null,
      "flex_flow": null,
      "grid_area": null,
      "grid_auto_columns": null,
      "grid_auto_flow": null,
      "grid_auto_rows": null,
      "grid_column": null,
      "grid_gap": null,
      "grid_row": null,
      "grid_template_areas": null,
      "grid_template_columns": null,
      "grid_template_rows": null,
      "height": null,
      "justify_content": null,
      "justify_items": null,
      "left": null,
      "margin": null,
      "max_height": null,
      "max_width": null,
      "min_height": null,
      "min_width": null,
      "object_fit": null,
      "object_position": null,
      "order": null,
      "overflow": null,
      "overflow_x": null,
      "overflow_y": null,
      "padding": null,
      "right": null,
      "top": null,
      "visibility": null,
      "width": null
     }
    },
    "ff07663f2ea6428297429b8ad8c5e6ad": {
     "model_module": "@jupyter-widgets/controls",
     "model_module_version": "1.5.0",
     "model_name": "DescriptionStyleModel",
     "state": {
      "_model_module": "@jupyter-widgets/controls",
      "_model_module_version": "1.5.0",
      "_model_name": "DescriptionStyleModel",
      "_view_count": null,
      "_view_module": "@jupyter-widgets/base",
      "_view_module_version": "1.2.0",
      "_view_name": "StyleView",
      "description_width": ""
     }
    }
   }
  }
 },
 "nbformat": 4,
 "nbformat_minor": 4
}
